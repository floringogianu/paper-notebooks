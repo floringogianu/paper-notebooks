{
 "cells": [
  {
   "cell_type": "markdown",
   "metadata": {},
   "source": [
    "# Functional Variational Bayesian Neural Networks\n",
    "\n",
    "Shengyang Sun, Guodong Zhang, Jiaxin Shi, Roger Grosse <[link](https://arxiv.org/pdf/1903.05779.pdf)>"
   ]
  },
  {
   "cell_type": "code",
   "execution_count": 1,
   "metadata": {},
   "outputs": [],
   "source": [
    "import torch\n",
    "import pandas as pd\n",
    "import altair as alt\n",
    "from vega_datasets import data\n",
    "from datasets import DemoData"
   ]
  },
  {
   "cell_type": "markdown",
   "metadata": {},
   "source": [
    "## Get the data\n",
    "\n",
    "Build `train`, `test` and `f(x)` (full interval) `torch.Dataset` objects for\n",
    "noisy functions `sin` (Bishop), `double_sin` (Gal) and `tricky_line` (Osband).\n",
    "These objects have an additional `panda()` member that returns a `pd.DataFrame`."
   ]
  },
  {
   "cell_type": "code",
   "execution_count": 2,
   "metadata": {},
   "outputs": [],
   "source": [
    "trn_set, tst_set, fx_set = (DemoData('sin', mode) for mode in ['train', 'test', 'f(x)'])"
   ]
  },
  {
   "cell_type": "code",
   "execution_count": 3,
   "metadata": {},
   "outputs": [],
   "source": [
    "data = pd.concat([dset.panda() for dset in [trn_set, tst_set, fx_set]])"
   ]
  },
  {
   "cell_type": "markdown",
   "metadata": {},
   "source": [
    "You can visualize the true function (in green) and the test and train noisy points."
   ]
  },
  {
   "cell_type": "code",
   "execution_count": 4,
   "metadata": {},
   "outputs": [],
   "source": [
    "fx_plt = alt.Chart(data, width=640).mark_line(color='springgreen', strokeWidth=3).encode(\n",
    "    x='x',\n",
    "    y='y'\n",
    ").transform_filter((alt.datum.series == 'f(x)'))\n",
    "\n",
    "trn_tst_plt = alt.Chart(data).mark_circle(size=100).encode(\n",
    "    x='x',\n",
    "    y='y',\n",
    "    color=alt.Color('series', scale=alt.Scale(domain=['train', 'test'],\n",
    "                                              range=['slateblue', '#cd5a84'])),\n",
    "    tooltip='y',\n",
    ").transform_filter((alt.datum.series != 'f(x)'))"
   ]
  },
  {
   "cell_type": "code",
   "execution_count": 5,
   "metadata": {},
   "outputs": [
    {
     "data": {
      "application/vnd.vegalite.v3+json": {
       "$schema": "https://vega.github.io/schema/vega-lite/v3.2.1.json",
       "config": {
        "mark": {
         "tooltip": null
        },
        "view": {
         "height": 300,
         "width": 400
        }
       },
       "datasets": {
        "data-128b9f7329723a2ebe55bf73a5c8051c": [
         {
          "series": "train",
          "x": 0.7792572975158691,
          "y": 0.6838231086730957
         },
         {
          "series": "train",
          "x": 0.5672098994255066,
          "y": 0.5941216349601746
         },
         {
          "series": "train",
          "x": 2.8915510177612305,
          "y": 0.13904979825019836
         },
         {
          "series": "train",
          "x": 1.5349524021148682,
          "y": 1.0004781484603882
         },
         {
          "series": "train",
          "x": 2.934236764907837,
          "y": 0.2694557309150696
         },
         {
          "series": "train",
          "x": 1.251326322555542,
          "y": 0.9793320298194885
         },
         {
          "series": "train",
          "x": 1.6102147102355957,
          "y": 1.072136402130127
         },
         {
          "series": "train",
          "x": 1.2434523105621338,
          "y": 0.9216295480728149
         },
         {
          "series": "train",
          "x": 4.046018600463867,
          "y": -0.7879377603530884
         },
         {
          "series": "train",
          "x": 5.570045471191406,
          "y": -0.702329158782959
         },
         {
          "series": "train",
          "x": 5.663438320159912,
          "y": -0.5763363242149353
         },
         {
          "series": "train",
          "x": 5.408726692199707,
          "y": -0.7491053342819214
         },
         {
          "series": "train",
          "x": 5.586859226226807,
          "y": -0.6192916631698608
         },
         {
          "series": "train",
          "x": 5.480564117431641,
          "y": -0.7097460627555847
         },
         {
          "series": "train",
          "x": 4.099864959716797,
          "y": -0.8074653744697571
         },
         {
          "series": "train",
          "x": 4.823058128356934,
          "y": -1.094670295715332
         },
         {
          "series": "test",
          "x": 3.264693260192871,
          "y": -0.16575928032398224
         },
         {
          "series": "test",
          "x": 4.5493998527526855,
          "y": -0.964198112487793
         },
         {
          "series": "test",
          "x": 1.2535269260406494,
          "y": 1.02730131149292
         },
         {
          "series": "test",
          "x": 2.6732349395751953,
          "y": 0.42881059646606445
         },
         {
          "series": "test",
          "x": 0.6512465476989746,
          "y": 0.6277502179145813
         },
         {
          "series": "test",
          "x": 5.629796981811523,
          "y": -0.6187677979469299
         },
         {
          "series": "test",
          "x": 1.2560300827026367,
          "y": 0.9502038359642029
         },
         {
          "series": "test",
          "x": 0.44835513830184937,
          "y": 0.4540706276893616
         },
         {
          "series": "test",
          "x": 1.2274291515350342,
          "y": 0.8729339241981506
         },
         {
          "series": "test",
          "x": 1.7102787494659424,
          "y": 1.0102964639663696
         },
         {
          "series": "test",
          "x": 5.534171104431152,
          "y": -0.6533480882644653
         },
         {
          "series": "f(x)",
          "x": 0,
          "y": 0
         },
         {
          "series": "f(x)",
          "x": 0.06346651911735535,
          "y": 0.06342392414808273
         },
         {
          "series": "f(x)",
          "x": 0.1269330382347107,
          "y": 0.1265924572944641
         },
         {
          "series": "f(x)",
          "x": 0.19039955735206604,
          "y": 0.18925124406814575
         },
         {
          "series": "f(x)",
          "x": 0.2538660764694214,
          "y": 0.251147985458374
         },
         {
          "series": "f(x)",
          "x": 0.31733259558677673,
          "y": 0.31203344464302063
         },
         {
          "series": "f(x)",
          "x": 0.3807991147041321,
          "y": 0.3716624677181244
         },
         {
          "series": "f(x)",
          "x": 0.4442656338214874,
          "y": 0.42979490756988525
         },
         {
          "series": "f(x)",
          "x": 0.5077321529388428,
          "y": 0.48619675636291504
         },
         {
          "series": "f(x)",
          "x": 0.5711987018585205,
          "y": 0.5406408309936523
         },
         {
          "series": "f(x)",
          "x": 0.6346651911735535,
          "y": 0.5929079651832581
         },
         {
          "series": "f(x)",
          "x": 0.6981316804885864,
          "y": 0.6427875757217407
         },
         {
          "series": "f(x)",
          "x": 0.7615982294082642,
          "y": 0.6900790333747864
         },
         {
          "series": "f(x)",
          "x": 0.8250647783279419,
          "y": 0.7345917224884033
         },
         {
          "series": "f(x)",
          "x": 0.8885312676429749,
          "y": 0.7761464715003967
         },
         {
          "series": "f(x)",
          "x": 0.9519977569580078,
          "y": 0.8145759105682373
         },
         {
          "series": "f(x)",
          "x": 1.0154643058776855,
          "y": 0.8497254252433777
         },
         {
          "series": "f(x)",
          "x": 1.0789308547973633,
          "y": 0.8814533948898315
         },
         {
          "series": "f(x)",
          "x": 1.142397403717041,
          "y": 0.9096320271492004
         },
         {
          "series": "f(x)",
          "x": 1.2058638334274292,
          "y": 0.934147834777832
         },
         {
          "series": "f(x)",
          "x": 1.269330382347107,
          "y": 0.9549022316932678
         },
         {
          "series": "f(x)",
          "x": 1.3327969312667847,
          "y": 0.9718115925788879
         },
         {
          "series": "f(x)",
          "x": 1.3962633609771729,
          "y": 0.9848077297210693
         },
         {
          "series": "f(x)",
          "x": 1.4597299098968506,
          "y": 0.9938384294509888
         },
         {
          "series": "f(x)",
          "x": 1.5231964588165283,
          "y": 0.9988673329353333
         },
         {
          "series": "f(x)",
          "x": 1.586663007736206,
          "y": 0.9998741149902344
         },
         {
          "series": "f(x)",
          "x": 1.6501295566558838,
          "y": 0.9968547821044922
         },
         {
          "series": "f(x)",
          "x": 1.713595986366272,
          "y": 0.9898214340209961
         },
         {
          "series": "f(x)",
          "x": 1.7770625352859497,
          "y": 0.9788024425506592
         },
         {
          "series": "f(x)",
          "x": 1.8405290842056274,
          "y": 0.9638421535491943
         },
         {
          "series": "f(x)",
          "x": 1.9039955139160156,
          "y": 0.9450008273124695
         },
         {
          "series": "f(x)",
          "x": 1.9674620628356934,
          "y": 0.9223542809486389
         },
         {
          "series": "f(x)",
          "x": 2.030928611755371,
          "y": 0.8959937691688538
         },
         {
          "series": "f(x)",
          "x": 2.094395160675049,
          "y": 0.8660253882408142
         },
         {
          "series": "f(x)",
          "x": 2.1578617095947266,
          "y": 0.8325697779655457
         },
         {
          "series": "f(x)",
          "x": 2.2213282585144043,
          "y": 0.79576176404953
         },
         {
          "series": "f(x)",
          "x": 2.284794807434082,
          "y": 0.7557494640350342
         },
         {
          "series": "f(x)",
          "x": 2.3482611179351807,
          "y": 0.7126942276954651
         },
         {
          "series": "f(x)",
          "x": 2.4117276668548584,
          "y": 0.6667690277099609
         },
         {
          "series": "f(x)",
          "x": 2.475194215774536,
          "y": 0.6181589961051941
         },
         {
          "series": "f(x)",
          "x": 2.538660764694214,
          "y": 0.5670598149299622
         },
         {
          "series": "f(x)",
          "x": 2.6021273136138916,
          "y": 0.5136773586273193
         },
         {
          "series": "f(x)",
          "x": 2.6655938625335693,
          "y": 0.45822644233703613
         },
         {
          "series": "f(x)",
          "x": 2.729060411453247,
          "y": 0.4009304344654083
         },
         {
          "series": "f(x)",
          "x": 2.7925267219543457,
          "y": 0.3420202136039734
         },
         {
          "series": "f(x)",
          "x": 2.8559932708740234,
          "y": 0.28173261880874634
         },
         {
          "series": "f(x)",
          "x": 2.919459819793701,
          "y": 0.22031055390834808
         },
         {
          "series": "f(x)",
          "x": 2.982926368713379,
          "y": 0.1580013781785965
         },
         {
          "series": "f(x)",
          "x": 3.0463929176330566,
          "y": 0.09505600482225418
         },
         {
          "series": "f(x)",
          "x": 3.1098594665527344,
          "y": 0.0317278616130352
         },
         {
          "series": "f(x)",
          "x": 3.173326015472412,
          "y": -0.03172803670167923
         },
         {
          "series": "f(x)",
          "x": 3.23679256439209,
          "y": -0.09505617618560791
         },
         {
          "series": "f(x)",
          "x": 3.3002591133117676,
          "y": -0.15800155699253082
         },
         {
          "series": "f(x)",
          "x": 3.363725423812866,
          "y": -0.2203104943037033
         },
         {
          "series": "f(x)",
          "x": 3.427191972732544,
          "y": -0.28173255920410156
         },
         {
          "series": "f(x)",
          "x": 3.4906585216522217,
          "y": -0.3420201539993286
         },
         {
          "series": "f(x)",
          "x": 3.5541250705718994,
          "y": -0.40093058347702026
         },
         {
          "series": "f(x)",
          "x": 3.617591619491577,
          "y": -0.45822659134864807
         },
         {
          "series": "f(x)",
          "x": 3.681058168411255,
          "y": -0.5136774778366089
         },
         {
          "series": "f(x)",
          "x": 3.7445247173309326,
          "y": -0.5670599937438965
         },
         {
          "series": "f(x)",
          "x": 3.8079910278320312,
          "y": -0.6181589365005493
         },
         {
          "series": "f(x)",
          "x": 3.871457576751709,
          "y": -0.6667689681053162
         },
         {
          "series": "f(x)",
          "x": 3.9349241256713867,
          "y": -0.7126941680908203
         },
         {
          "series": "f(x)",
          "x": 3.9983906745910645,
          "y": -0.7557495832443237
         },
         {
          "series": "f(x)",
          "x": 4.061857223510742,
          "y": -0.7957618832588196
         },
         {
          "series": "f(x)",
          "x": 4.12532377243042,
          "y": -0.8325698971748352
         },
         {
          "series": "f(x)",
          "x": 4.188790321350098,
          "y": -0.866025447845459
         },
         {
          "series": "f(x)",
          "x": 4.252256870269775,
          "y": -0.8959938287734985
         },
         {
          "series": "f(x)",
          "x": 4.315723419189453,
          "y": -0.9223543405532837
         },
         {
          "series": "f(x)",
          "x": 4.379189968109131,
          "y": -0.9450008869171143
         },
         {
          "series": "f(x)",
          "x": 4.442656517028809,
          "y": -0.9638422131538391
         },
         {
          "series": "f(x)",
          "x": 4.506123065948486,
          "y": -0.978802502155304
         },
         {
          "series": "f(x)",
          "x": 4.569589614868164,
          "y": -0.9898214936256409
         },
         {
          "series": "f(x)",
          "x": 4.633055686950684,
          "y": -0.9968547821044922
         },
         {
          "series": "f(x)",
          "x": 4.696522235870361,
          "y": -0.9998741149902344
         },
         {
          "series": "f(x)",
          "x": 4.759988784790039,
          "y": -0.9988673329353333
         },
         {
          "series": "f(x)",
          "x": 4.823455333709717,
          "y": -0.9938384890556335
         },
         {
          "series": "f(x)",
          "x": 4.8869218826293945,
          "y": -0.9848077297210693
         },
         {
          "series": "f(x)",
          "x": 4.950388431549072,
          "y": -0.9718115925788879
         },
         {
          "series": "f(x)",
          "x": 5.01385498046875,
          "y": -0.9549022316932678
         },
         {
          "series": "f(x)",
          "x": 5.077321529388428,
          "y": -0.934147834777832
         },
         {
          "series": "f(x)",
          "x": 5.1407880783081055,
          "y": -0.9096319675445557
         },
         {
          "series": "f(x)",
          "x": 5.204254627227783,
          "y": -0.881453275680542
         },
         {
          "series": "f(x)",
          "x": 5.267721176147461,
          "y": -0.8497253656387329
         },
         {
          "series": "f(x)",
          "x": 5.331187725067139,
          "y": -0.8145758509635925
         },
         {
          "series": "f(x)",
          "x": 5.394654273986816,
          "y": -0.7761462926864624
         },
         {
          "series": "f(x)",
          "x": 5.458120822906494,
          "y": -0.734591543674469
         },
         {
          "series": "f(x)",
          "x": 5.521587371826172,
          "y": -0.6900787949562073
         },
         {
          "series": "f(x)",
          "x": 5.585053443908691,
          "y": -0.642787754535675
         },
         {
          "series": "f(x)",
          "x": 5.648519992828369,
          "y": -0.5929080247879028
         },
         {
          "series": "f(x)",
          "x": 5.711986541748047,
          "y": -0.5406408905982971
         },
         {
          "series": "f(x)",
          "x": 5.775453090667725,
          "y": -0.4861967861652374
         },
         {
          "series": "f(x)",
          "x": 5.838919639587402,
          "y": -0.42979493737220764
         },
         {
          "series": "f(x)",
          "x": 5.90238618850708,
          "y": -0.3716624677181244
         },
         {
          "series": "f(x)",
          "x": 5.965852737426758,
          "y": -0.31203341484069824
         },
         {
          "series": "f(x)",
          "x": 6.0293192863464355,
          "y": -0.25114792585372925
         },
         {
          "series": "f(x)",
          "x": 6.092785835266113,
          "y": -0.18925116956233978
         },
         {
          "series": "f(x)",
          "x": 6.156252384185791,
          "y": -0.12659233808517456
         },
         {
          "series": "f(x)",
          "x": 6.219718933105469,
          "y": -0.0634237751364708
         },
         {
          "series": "f(x)",
          "x": 6.2831854820251465,
          "y": 1.7484555314695172e-07
         }
        ]
       },
       "layer": [
        {
         "data": {
          "name": "data-128b9f7329723a2ebe55bf73a5c8051c"
         },
         "encoding": {
          "x": {
           "field": "x",
           "type": "quantitative"
          },
          "y": {
           "field": "y",
           "type": "quantitative"
          }
         },
         "mark": {
          "color": "springgreen",
          "strokeWidth": 3,
          "type": "line"
         },
         "transform": [
          {
           "filter": "(datum.series === 'f(x)')"
          }
         ],
         "width": 640
        },
        {
         "data": {
          "name": "data-128b9f7329723a2ebe55bf73a5c8051c"
         },
         "encoding": {
          "color": {
           "field": "series",
           "scale": {
            "domain": [
             "train",
             "test"
            ],
            "range": [
             "slateblue",
             "#cd5a84"
            ]
           },
           "type": "nominal"
          },
          "tooltip": {
           "field": "y",
           "type": "quantitative"
          },
          "x": {
           "field": "x",
           "type": "quantitative"
          },
          "y": {
           "field": "y",
           "type": "quantitative"
          }
         },
         "mark": {
          "size": 100,
          "type": "circle"
         },
         "transform": [
          {
           "filter": "(datum.series !== 'f(x)')"
          }
         ]
        }
       ]
      },
      "image/png": "[encoded data removed]",
      "text/plain": [
       "<VegaLite 3 object>\n",
       "\n",
       "If you see this message, it means the renderer has not been properly enabled\n",
       "for the frontend that you are using. For more information, see\n",
       "https://altair-viz.github.io/user_guide/troubleshooting.html\n"
      ]
     },
     "execution_count": 5,
     "metadata": {},
     "output_type": "execute_result"
    }
   ],
   "source": [
    "fx_plt + trn_tst_plt"
   ]
  },
  {
   "cell_type": "code",
   "execution_count": 6,
   "metadata": {},
   "outputs": [],
   "source": [
    "def plot_test(μ, x_test, data):\n",
    "    data = data.copy()\n",
    "    data = data.append(\n",
    "        pd.DataFrame(list(zip(x_test.squeeze().numpy(), μ.squeeze().numpy(), ['fit']*len(μ))), columns=data.columns),\n",
    "        ignore_index=True\n",
    "    )\n",
    "    trn_fit_plt = alt.Chart(data).mark_circle(size=100).encode(\n",
    "        x='x', y='y',\n",
    "        color=alt.Color('series', scale=alt.Scale(domain=['train', 'test', 'fit'],\n",
    "                                                  range=['slateblue','#cd5a84', 'orange'])),\n",
    "        tooltip='y',\n",
    "    ).transform_filter((alt.datum.series != 'f(x)'))\n",
    "    return fx_plt + trn_fit_plt"
   ]
  },
  {
   "cell_type": "markdown",
   "metadata": {},
   "source": [
    "## Gaussian Processes\n",
    "\n",
    "Let us get back to the basic by fitting a Gaussian Process we will use as baseline for evaluating\n",
    "the proposed fBNNs.\n",
    "\n",
    "We first need to define a kernel we use to project our data in a feature space we can easily work with."
   ]
  },
  {
   "cell_type": "markdown",
   "metadata": {},
   "source": [
    "$$\n",
    "k_{RBF}(\\mathbf{x}_{i,:},\\mathbf{x}_{j,:}) = \\sigma^2 \\exp \\left( -\\frac{1}{2\\ell^2} \\sum_{q=1}^Q (x_{i,q} - x_{j,q})^2\\right)\n",
    "$$"
   ]
  },
  {
   "cell_type": "code",
   "execution_count": 14,
   "metadata": {},
   "outputs": [],
   "source": [
    "def euclidean_pairwise_dist(a, b=None):\n",
    "    if b is not None:\n",
    "        return (a - b.t())**2\n",
    "    return (a - a.t())**2\n",
    "\n",
    "def rbf_kernel(a, b=None, var=0.1, scale=1):\n",
    "    dist = euclidean_pairwise_dist(a,b)\n",
    "    return var * torch.exp(-(1/(2*scale**2)) * dist)"
   ]
  },
  {
   "cell_type": "code",
   "execution_count": 15,
   "metadata": {},
   "outputs": [],
   "source": [
    "x_train = trn_set._DemoData__data.unsqueeze(0).t()\n",
    "y_train = trn_set._DemoData__targets.unsqueeze(0).t()\n",
    "x_test = tst_set._DemoData__data.unsqueeze(0).t()\n",
    "x_full = fx_set._DemoData__data.unsqueeze(0).t()"
   ]
  },
  {
   "cell_type": "code",
   "execution_count": 16,
   "metadata": {},
   "outputs": [],
   "source": [
    "def gp(x_train, x_test, y_train, ϵ=0.1):\n",
    "    \"\"\"Aici e procesu' gaussian.\"\"\"\n",
    "    kxx = rbf_kernel(x_train)\n",
    "    kxt = rbf_kernel(x_train, x_test)\n",
    "    ktt = rbf_kernel(x_test)\n",
    "    print(kxx.shape, kxt.shape, ktt.shape)\n",
    "\n",
    "    kxx_inv_kxt = torch.inverse(kxx + (torch.eye(len(kxx)) * ϵ)) @ kxt\n",
    "    μ = kxx_inv_kxt.t() @ y_train\n",
    "    Σ = ktt - (kxx_inv_kxt.t() @ kxt)\n",
    "    return μ, Σ"
   ]
  },
  {
   "cell_type": "code",
   "execution_count": 17,
   "metadata": {},
   "outputs": [
    {
     "name": "stdout",
     "output_type": "stream",
     "text": [
      "torch.Size([16, 16]) torch.Size([16, 11]) torch.Size([11, 11])\n"
     ]
    }
   ],
   "source": [
    "μ_test, Σ_test = gp(x_train, x_test, y_train)"
   ]
  },
  {
   "cell_type": "code",
   "execution_count": 18,
   "metadata": {},
   "outputs": [
    {
     "data": {
      "application/vnd.vegalite.v3+json": {
       "$schema": "https://vega.github.io/schema/vega-lite/v3.2.1.json",
       "config": {
        "mark": {
         "tooltip": null
        },
        "view": {
         "height": 300,
         "width": 400
        }
       },
       "datasets": {
        "data-128b9f7329723a2ebe55bf73a5c8051c": [
         {
          "series": "train",
          "x": 0.7792572975158691,
          "y": 0.6838231086730957
         },
         {
          "series": "train",
          "x": 0.5672098994255066,
          "y": 0.5941216349601746
         },
         {
          "series": "train",
          "x": 2.8915510177612305,
          "y": 0.13904979825019836
         },
         {
          "series": "train",
          "x": 1.5349524021148682,
          "y": 1.0004781484603882
         },
         {
          "series": "train",
          "x": 2.934236764907837,
          "y": 0.2694557309150696
         },
         {
          "series": "train",
          "x": 1.251326322555542,
          "y": 0.9793320298194885
         },
         {
          "series": "train",
          "x": 1.6102147102355957,
          "y": 1.072136402130127
         },
         {
          "series": "train",
          "x": 1.2434523105621338,
          "y": 0.9216295480728149
         },
         {
          "series": "train",
          "x": 4.046018600463867,
          "y": -0.7879377603530884
         },
         {
          "series": "train",
          "x": 5.570045471191406,
          "y": -0.702329158782959
         },
         {
          "series": "train",
          "x": 5.663438320159912,
          "y": -0.5763363242149353
         },
         {
          "series": "train",
          "x": 5.408726692199707,
          "y": -0.7491053342819214
         },
         {
          "series": "train",
          "x": 5.586859226226807,
          "y": -0.6192916631698608
         },
         {
          "series": "train",
          "x": 5.480564117431641,
          "y": -0.7097460627555847
         },
         {
          "series": "train",
          "x": 4.099864959716797,
          "y": -0.8074653744697571
         },
         {
          "series": "train",
          "x": 4.823058128356934,
          "y": -1.094670295715332
         },
         {
          "series": "test",
          "x": 3.264693260192871,
          "y": -0.16575928032398224
         },
         {
          "series": "test",
          "x": 4.5493998527526855,
          "y": -0.964198112487793
         },
         {
          "series": "test",
          "x": 1.2535269260406494,
          "y": 1.02730131149292
         },
         {
          "series": "test",
          "x": 2.6732349395751953,
          "y": 0.42881059646606445
         },
         {
          "series": "test",
          "x": 0.6512465476989746,
          "y": 0.6277502179145813
         },
         {
          "series": "test",
          "x": 5.629796981811523,
          "y": -0.6187677979469299
         },
         {
          "series": "test",
          "x": 1.2560300827026367,
          "y": 0.9502038359642029
         },
         {
          "series": "test",
          "x": 0.44835513830184937,
          "y": 0.4540706276893616
         },
         {
          "series": "test",
          "x": 1.2274291515350342,
          "y": 0.8729339241981506
         },
         {
          "series": "test",
          "x": 1.7102787494659424,
          "y": 1.0102964639663696
         },
         {
          "series": "test",
          "x": 5.534171104431152,
          "y": -0.6533480882644653
         },
         {
          "series": "f(x)",
          "x": 0,
          "y": 0
         },
         {
          "series": "f(x)",
          "x": 0.06346651911735535,
          "y": 0.06342392414808273
         },
         {
          "series": "f(x)",
          "x": 0.1269330382347107,
          "y": 0.1265924572944641
         },
         {
          "series": "f(x)",
          "x": 0.19039955735206604,
          "y": 0.18925124406814575
         },
         {
          "series": "f(x)",
          "x": 0.2538660764694214,
          "y": 0.251147985458374
         },
         {
          "series": "f(x)",
          "x": 0.31733259558677673,
          "y": 0.31203344464302063
         },
         {
          "series": "f(x)",
          "x": 0.3807991147041321,
          "y": 0.3716624677181244
         },
         {
          "series": "f(x)",
          "x": 0.4442656338214874,
          "y": 0.42979490756988525
         },
         {
          "series": "f(x)",
          "x": 0.5077321529388428,
          "y": 0.48619675636291504
         },
         {
          "series": "f(x)",
          "x": 0.5711987018585205,
          "y": 0.5406408309936523
         },
         {
          "series": "f(x)",
          "x": 0.6346651911735535,
          "y": 0.5929079651832581
         },
         {
          "series": "f(x)",
          "x": 0.6981316804885864,
          "y": 0.6427875757217407
         },
         {
          "series": "f(x)",
          "x": 0.7615982294082642,
          "y": 0.6900790333747864
         },
         {
          "series": "f(x)",
          "x": 0.8250647783279419,
          "y": 0.7345917224884033
         },
         {
          "series": "f(x)",
          "x": 0.8885312676429749,
          "y": 0.7761464715003967
         },
         {
          "series": "f(x)",
          "x": 0.9519977569580078,
          "y": 0.8145759105682373
         },
         {
          "series": "f(x)",
          "x": 1.0154643058776855,
          "y": 0.8497254252433777
         },
         {
          "series": "f(x)",
          "x": 1.0789308547973633,
          "y": 0.8814533948898315
         },
         {
          "series": "f(x)",
          "x": 1.142397403717041,
          "y": 0.9096320271492004
         },
         {
          "series": "f(x)",
          "x": 1.2058638334274292,
          "y": 0.934147834777832
         },
         {
          "series": "f(x)",
          "x": 1.269330382347107,
          "y": 0.9549022316932678
         },
         {
          "series": "f(x)",
          "x": 1.3327969312667847,
          "y": 0.9718115925788879
         },
         {
          "series": "f(x)",
          "x": 1.3962633609771729,
          "y": 0.9848077297210693
         },
         {
          "series": "f(x)",
          "x": 1.4597299098968506,
          "y": 0.9938384294509888
         },
         {
          "series": "f(x)",
          "x": 1.5231964588165283,
          "y": 0.9988673329353333
         },
         {
          "series": "f(x)",
          "x": 1.586663007736206,
          "y": 0.9998741149902344
         },
         {
          "series": "f(x)",
          "x": 1.6501295566558838,
          "y": 0.9968547821044922
         },
         {
          "series": "f(x)",
          "x": 1.713595986366272,
          "y": 0.9898214340209961
         },
         {
          "series": "f(x)",
          "x": 1.7770625352859497,
          "y": 0.9788024425506592
         },
         {
          "series": "f(x)",
          "x": 1.8405290842056274,
          "y": 0.9638421535491943
         },
         {
          "series": "f(x)",
          "x": 1.9039955139160156,
          "y": 0.9450008273124695
         },
         {
          "series": "f(x)",
          "x": 1.9674620628356934,
          "y": 0.9223542809486389
         },
         {
          "series": "f(x)",
          "x": 2.030928611755371,
          "y": 0.8959937691688538
         },
         {
          "series": "f(x)",
          "x": 2.094395160675049,
          "y": 0.8660253882408142
         },
         {
          "series": "f(x)",
          "x": 2.1578617095947266,
          "y": 0.8325697779655457
         },
         {
          "series": "f(x)",
          "x": 2.2213282585144043,
          "y": 0.79576176404953
         },
         {
          "series": "f(x)",
          "x": 2.284794807434082,
          "y": 0.7557494640350342
         },
         {
          "series": "f(x)",
          "x": 2.3482611179351807,
          "y": 0.7126942276954651
         },
         {
          "series": "f(x)",
          "x": 2.4117276668548584,
          "y": 0.6667690277099609
         },
         {
          "series": "f(x)",
          "x": 2.475194215774536,
          "y": 0.6181589961051941
         },
         {
          "series": "f(x)",
          "x": 2.538660764694214,
          "y": 0.5670598149299622
         },
         {
          "series": "f(x)",
          "x": 2.6021273136138916,
          "y": 0.5136773586273193
         },
         {
          "series": "f(x)",
          "x": 2.6655938625335693,
          "y": 0.45822644233703613
         },
         {
          "series": "f(x)",
          "x": 2.729060411453247,
          "y": 0.4009304344654083
         },
         {
          "series": "f(x)",
          "x": 2.7925267219543457,
          "y": 0.3420202136039734
         },
         {
          "series": "f(x)",
          "x": 2.8559932708740234,
          "y": 0.28173261880874634
         },
         {
          "series": "f(x)",
          "x": 2.919459819793701,
          "y": 0.22031055390834808
         },
         {
          "series": "f(x)",
          "x": 2.982926368713379,
          "y": 0.1580013781785965
         },
         {
          "series": "f(x)",
          "x": 3.0463929176330566,
          "y": 0.09505600482225418
         },
         {
          "series": "f(x)",
          "x": 3.1098594665527344,
          "y": 0.0317278616130352
         },
         {
          "series": "f(x)",
          "x": 3.173326015472412,
          "y": -0.03172803670167923
         },
         {
          "series": "f(x)",
          "x": 3.23679256439209,
          "y": -0.09505617618560791
         },
         {
          "series": "f(x)",
          "x": 3.3002591133117676,
          "y": -0.15800155699253082
         },
         {
          "series": "f(x)",
          "x": 3.363725423812866,
          "y": -0.2203104943037033
         },
         {
          "series": "f(x)",
          "x": 3.427191972732544,
          "y": -0.28173255920410156
         },
         {
          "series": "f(x)",
          "x": 3.4906585216522217,
          "y": -0.3420201539993286
         },
         {
          "series": "f(x)",
          "x": 3.5541250705718994,
          "y": -0.40093058347702026
         },
         {
          "series": "f(x)",
          "x": 3.617591619491577,
          "y": -0.45822659134864807
         },
         {
          "series": "f(x)",
          "x": 3.681058168411255,
          "y": -0.5136774778366089
         },
         {
          "series": "f(x)",
          "x": 3.7445247173309326,
          "y": -0.5670599937438965
         },
         {
          "series": "f(x)",
          "x": 3.8079910278320312,
          "y": -0.6181589365005493
         },
         {
          "series": "f(x)",
          "x": 3.871457576751709,
          "y": -0.6667689681053162
         },
         {
          "series": "f(x)",
          "x": 3.9349241256713867,
          "y": -0.7126941680908203
         },
         {
          "series": "f(x)",
          "x": 3.9983906745910645,
          "y": -0.7557495832443237
         },
         {
          "series": "f(x)",
          "x": 4.061857223510742,
          "y": -0.7957618832588196
         },
         {
          "series": "f(x)",
          "x": 4.12532377243042,
          "y": -0.8325698971748352
         },
         {
          "series": "f(x)",
          "x": 4.188790321350098,
          "y": -0.866025447845459
         },
         {
          "series": "f(x)",
          "x": 4.252256870269775,
          "y": -0.8959938287734985
         },
         {
          "series": "f(x)",
          "x": 4.315723419189453,
          "y": -0.9223543405532837
         },
         {
          "series": "f(x)",
          "x": 4.379189968109131,
          "y": -0.9450008869171143
         },
         {
          "series": "f(x)",
          "x": 4.442656517028809,
          "y": -0.9638422131538391
         },
         {
          "series": "f(x)",
          "x": 4.506123065948486,
          "y": -0.978802502155304
         },
         {
          "series": "f(x)",
          "x": 4.569589614868164,
          "y": -0.9898214936256409
         },
         {
          "series": "f(x)",
          "x": 4.633055686950684,
          "y": -0.9968547821044922
         },
         {
          "series": "f(x)",
          "x": 4.696522235870361,
          "y": -0.9998741149902344
         },
         {
          "series": "f(x)",
          "x": 4.759988784790039,
          "y": -0.9988673329353333
         },
         {
          "series": "f(x)",
          "x": 4.823455333709717,
          "y": -0.9938384890556335
         },
         {
          "series": "f(x)",
          "x": 4.8869218826293945,
          "y": -0.9848077297210693
         },
         {
          "series": "f(x)",
          "x": 4.950388431549072,
          "y": -0.9718115925788879
         },
         {
          "series": "f(x)",
          "x": 5.01385498046875,
          "y": -0.9549022316932678
         },
         {
          "series": "f(x)",
          "x": 5.077321529388428,
          "y": -0.934147834777832
         },
         {
          "series": "f(x)",
          "x": 5.1407880783081055,
          "y": -0.9096319675445557
         },
         {
          "series": "f(x)",
          "x": 5.204254627227783,
          "y": -0.881453275680542
         },
         {
          "series": "f(x)",
          "x": 5.267721176147461,
          "y": -0.8497253656387329
         },
         {
          "series": "f(x)",
          "x": 5.331187725067139,
          "y": -0.8145758509635925
         },
         {
          "series": "f(x)",
          "x": 5.394654273986816,
          "y": -0.7761462926864624
         },
         {
          "series": "f(x)",
          "x": 5.458120822906494,
          "y": -0.734591543674469
         },
         {
          "series": "f(x)",
          "x": 5.521587371826172,
          "y": -0.6900787949562073
         },
         {
          "series": "f(x)",
          "x": 5.585053443908691,
          "y": -0.642787754535675
         },
         {
          "series": "f(x)",
          "x": 5.648519992828369,
          "y": -0.5929080247879028
         },
         {
          "series": "f(x)",
          "x": 5.711986541748047,
          "y": -0.5406408905982971
         },
         {
          "series": "f(x)",
          "x": 5.775453090667725,
          "y": -0.4861967861652374
         },
         {
          "series": "f(x)",
          "x": 5.838919639587402,
          "y": -0.42979493737220764
         },
         {
          "series": "f(x)",
          "x": 5.90238618850708,
          "y": -0.3716624677181244
         },
         {
          "series": "f(x)",
          "x": 5.965852737426758,
          "y": -0.31203341484069824
         },
         {
          "series": "f(x)",
          "x": 6.0293192863464355,
          "y": -0.25114792585372925
         },
         {
          "series": "f(x)",
          "x": 6.092785835266113,
          "y": -0.18925116956233978
         },
         {
          "series": "f(x)",
          "x": 6.156252384185791,
          "y": -0.12659233808517456
         },
         {
          "series": "f(x)",
          "x": 6.219718933105469,
          "y": -0.0634237751364708
         },
         {
          "series": "f(x)",
          "x": 6.2831854820251465,
          "y": 1.7484555314695172e-07
         }
        ],
        "data-e8e72eb53f67c6568ba39974a8115ace": [
         {
          "series": "train",
          "x": 0.7792572975158691,
          "y": 0.6838231086730957
         },
         {
          "series": "train",
          "x": 0.5672098994255066,
          "y": 0.5941216349601746
         },
         {
          "series": "train",
          "x": 2.8915510177612305,
          "y": 0.13904979825019836
         },
         {
          "series": "train",
          "x": 1.5349524021148682,
          "y": 1.0004781484603882
         },
         {
          "series": "train",
          "x": 2.934236764907837,
          "y": 0.2694557309150696
         },
         {
          "series": "train",
          "x": 1.251326322555542,
          "y": 0.9793320298194885
         },
         {
          "series": "train",
          "x": 1.6102147102355957,
          "y": 1.072136402130127
         },
         {
          "series": "train",
          "x": 1.2434523105621338,
          "y": 0.9216295480728149
         },
         {
          "series": "train",
          "x": 4.046018600463867,
          "y": -0.7879377603530884
         },
         {
          "series": "train",
          "x": 5.570045471191406,
          "y": -0.702329158782959
         },
         {
          "series": "train",
          "x": 5.663438320159912,
          "y": -0.5763363242149353
         },
         {
          "series": "train",
          "x": 5.408726692199707,
          "y": -0.7491053342819214
         },
         {
          "series": "train",
          "x": 5.586859226226807,
          "y": -0.6192916631698608
         },
         {
          "series": "train",
          "x": 5.480564117431641,
          "y": -0.7097460627555847
         },
         {
          "series": "train",
          "x": 4.099864959716797,
          "y": -0.8074653744697571
         },
         {
          "series": "train",
          "x": 4.823058128356934,
          "y": -1.094670295715332
         },
         {
          "series": "test",
          "x": 3.264693260192871,
          "y": -0.16575928032398224
         },
         {
          "series": "test",
          "x": 4.5493998527526855,
          "y": -0.964198112487793
         },
         {
          "series": "test",
          "x": 1.2535269260406494,
          "y": 1.02730131149292
         },
         {
          "series": "test",
          "x": 2.6732349395751953,
          "y": 0.42881059646606445
         },
         {
          "series": "test",
          "x": 0.6512465476989746,
          "y": 0.6277502179145813
         },
         {
          "series": "test",
          "x": 5.629796981811523,
          "y": -0.6187677979469299
         },
         {
          "series": "test",
          "x": 1.2560300827026367,
          "y": 0.9502038359642029
         },
         {
          "series": "test",
          "x": 0.44835513830184937,
          "y": 0.4540706276893616
         },
         {
          "series": "test",
          "x": 1.2274291515350342,
          "y": 0.8729339241981506
         },
         {
          "series": "test",
          "x": 1.7102787494659424,
          "y": 1.0102964639663696
         },
         {
          "series": "test",
          "x": 5.534171104431152,
          "y": -0.6533480882644653
         },
         {
          "series": "f(x)",
          "x": 0,
          "y": 0
         },
         {
          "series": "f(x)",
          "x": 0.06346651911735535,
          "y": 0.06342392414808273
         },
         {
          "series": "f(x)",
          "x": 0.1269330382347107,
          "y": 0.1265924572944641
         },
         {
          "series": "f(x)",
          "x": 0.19039955735206604,
          "y": 0.18925124406814575
         },
         {
          "series": "f(x)",
          "x": 0.2538660764694214,
          "y": 0.251147985458374
         },
         {
          "series": "f(x)",
          "x": 0.31733259558677673,
          "y": 0.31203344464302063
         },
         {
          "series": "f(x)",
          "x": 0.3807991147041321,
          "y": 0.3716624677181244
         },
         {
          "series": "f(x)",
          "x": 0.4442656338214874,
          "y": 0.42979490756988525
         },
         {
          "series": "f(x)",
          "x": 0.5077321529388428,
          "y": 0.48619675636291504
         },
         {
          "series": "f(x)",
          "x": 0.5711987018585205,
          "y": 0.5406408309936523
         },
         {
          "series": "f(x)",
          "x": 0.6346651911735535,
          "y": 0.5929079651832581
         },
         {
          "series": "f(x)",
          "x": 0.6981316804885864,
          "y": 0.6427875757217407
         },
         {
          "series": "f(x)",
          "x": 0.7615982294082642,
          "y": 0.6900790333747864
         },
         {
          "series": "f(x)",
          "x": 0.8250647783279419,
          "y": 0.7345917224884033
         },
         {
          "series": "f(x)",
          "x": 0.8885312676429749,
          "y": 0.7761464715003967
         },
         {
          "series": "f(x)",
          "x": 0.9519977569580078,
          "y": 0.8145759105682373
         },
         {
          "series": "f(x)",
          "x": 1.0154643058776855,
          "y": 0.8497254252433777
         },
         {
          "series": "f(x)",
          "x": 1.0789308547973633,
          "y": 0.8814533948898315
         },
         {
          "series": "f(x)",
          "x": 1.142397403717041,
          "y": 0.9096320271492004
         },
         {
          "series": "f(x)",
          "x": 1.2058638334274292,
          "y": 0.934147834777832
         },
         {
          "series": "f(x)",
          "x": 1.269330382347107,
          "y": 0.9549022316932678
         },
         {
          "series": "f(x)",
          "x": 1.3327969312667847,
          "y": 0.9718115925788879
         },
         {
          "series": "f(x)",
          "x": 1.3962633609771729,
          "y": 0.9848077297210693
         },
         {
          "series": "f(x)",
          "x": 1.4597299098968506,
          "y": 0.9938384294509888
         },
         {
          "series": "f(x)",
          "x": 1.5231964588165283,
          "y": 0.9988673329353333
         },
         {
          "series": "f(x)",
          "x": 1.586663007736206,
          "y": 0.9998741149902344
         },
         {
          "series": "f(x)",
          "x": 1.6501295566558838,
          "y": 0.9968547821044922
         },
         {
          "series": "f(x)",
          "x": 1.713595986366272,
          "y": 0.9898214340209961
         },
         {
          "series": "f(x)",
          "x": 1.7770625352859497,
          "y": 0.9788024425506592
         },
         {
          "series": "f(x)",
          "x": 1.8405290842056274,
          "y": 0.9638421535491943
         },
         {
          "series": "f(x)",
          "x": 1.9039955139160156,
          "y": 0.9450008273124695
         },
         {
          "series": "f(x)",
          "x": 1.9674620628356934,
          "y": 0.9223542809486389
         },
         {
          "series": "f(x)",
          "x": 2.030928611755371,
          "y": 0.8959937691688538
         },
         {
          "series": "f(x)",
          "x": 2.094395160675049,
          "y": 0.8660253882408142
         },
         {
          "series": "f(x)",
          "x": 2.1578617095947266,
          "y": 0.8325697779655457
         },
         {
          "series": "f(x)",
          "x": 2.2213282585144043,
          "y": 0.79576176404953
         },
         {
          "series": "f(x)",
          "x": 2.284794807434082,
          "y": 0.7557494640350342
         },
         {
          "series": "f(x)",
          "x": 2.3482611179351807,
          "y": 0.7126942276954651
         },
         {
          "series": "f(x)",
          "x": 2.4117276668548584,
          "y": 0.6667690277099609
         },
         {
          "series": "f(x)",
          "x": 2.475194215774536,
          "y": 0.6181589961051941
         },
         {
          "series": "f(x)",
          "x": 2.538660764694214,
          "y": 0.5670598149299622
         },
         {
          "series": "f(x)",
          "x": 2.6021273136138916,
          "y": 0.5136773586273193
         },
         {
          "series": "f(x)",
          "x": 2.6655938625335693,
          "y": 0.45822644233703613
         },
         {
          "series": "f(x)",
          "x": 2.729060411453247,
          "y": 0.4009304344654083
         },
         {
          "series": "f(x)",
          "x": 2.7925267219543457,
          "y": 0.3420202136039734
         },
         {
          "series": "f(x)",
          "x": 2.8559932708740234,
          "y": 0.28173261880874634
         },
         {
          "series": "f(x)",
          "x": 2.919459819793701,
          "y": 0.22031055390834808
         },
         {
          "series": "f(x)",
          "x": 2.982926368713379,
          "y": 0.1580013781785965
         },
         {
          "series": "f(x)",
          "x": 3.0463929176330566,
          "y": 0.09505600482225418
         },
         {
          "series": "f(x)",
          "x": 3.1098594665527344,
          "y": 0.0317278616130352
         },
         {
          "series": "f(x)",
          "x": 3.173326015472412,
          "y": -0.03172803670167923
         },
         {
          "series": "f(x)",
          "x": 3.23679256439209,
          "y": -0.09505617618560791
         },
         {
          "series": "f(x)",
          "x": 3.3002591133117676,
          "y": -0.15800155699253082
         },
         {
          "series": "f(x)",
          "x": 3.363725423812866,
          "y": -0.2203104943037033
         },
         {
          "series": "f(x)",
          "x": 3.427191972732544,
          "y": -0.28173255920410156
         },
         {
          "series": "f(x)",
          "x": 3.4906585216522217,
          "y": -0.3420201539993286
         },
         {
          "series": "f(x)",
          "x": 3.5541250705718994,
          "y": -0.40093058347702026
         },
         {
          "series": "f(x)",
          "x": 3.617591619491577,
          "y": -0.45822659134864807
         },
         {
          "series": "f(x)",
          "x": 3.681058168411255,
          "y": -0.5136774778366089
         },
         {
          "series": "f(x)",
          "x": 3.7445247173309326,
          "y": -0.5670599937438965
         },
         {
          "series": "f(x)",
          "x": 3.8079910278320312,
          "y": -0.6181589365005493
         },
         {
          "series": "f(x)",
          "x": 3.871457576751709,
          "y": -0.6667689681053162
         },
         {
          "series": "f(x)",
          "x": 3.9349241256713867,
          "y": -0.7126941680908203
         },
         {
          "series": "f(x)",
          "x": 3.9983906745910645,
          "y": -0.7557495832443237
         },
         {
          "series": "f(x)",
          "x": 4.061857223510742,
          "y": -0.7957618832588196
         },
         {
          "series": "f(x)",
          "x": 4.12532377243042,
          "y": -0.8325698971748352
         },
         {
          "series": "f(x)",
          "x": 4.188790321350098,
          "y": -0.866025447845459
         },
         {
          "series": "f(x)",
          "x": 4.252256870269775,
          "y": -0.8959938287734985
         },
         {
          "series": "f(x)",
          "x": 4.315723419189453,
          "y": -0.9223543405532837
         },
         {
          "series": "f(x)",
          "x": 4.379189968109131,
          "y": -0.9450008869171143
         },
         {
          "series": "f(x)",
          "x": 4.442656517028809,
          "y": -0.9638422131538391
         },
         {
          "series": "f(x)",
          "x": 4.506123065948486,
          "y": -0.978802502155304
         },
         {
          "series": "f(x)",
          "x": 4.569589614868164,
          "y": -0.9898214936256409
         },
         {
          "series": "f(x)",
          "x": 4.633055686950684,
          "y": -0.9968547821044922
         },
         {
          "series": "f(x)",
          "x": 4.696522235870361,
          "y": -0.9998741149902344
         },
         {
          "series": "f(x)",
          "x": 4.759988784790039,
          "y": -0.9988673329353333
         },
         {
          "series": "f(x)",
          "x": 4.823455333709717,
          "y": -0.9938384890556335
         },
         {
          "series": "f(x)",
          "x": 4.8869218826293945,
          "y": -0.9848077297210693
         },
         {
          "series": "f(x)",
          "x": 4.950388431549072,
          "y": -0.9718115925788879
         },
         {
          "series": "f(x)",
          "x": 5.01385498046875,
          "y": -0.9549022316932678
         },
         {
          "series": "f(x)",
          "x": 5.077321529388428,
          "y": -0.934147834777832
         },
         {
          "series": "f(x)",
          "x": 5.1407880783081055,
          "y": -0.9096319675445557
         },
         {
          "series": "f(x)",
          "x": 5.204254627227783,
          "y": -0.881453275680542
         },
         {
          "series": "f(x)",
          "x": 5.267721176147461,
          "y": -0.8497253656387329
         },
         {
          "series": "f(x)",
          "x": 5.331187725067139,
          "y": -0.8145758509635925
         },
         {
          "series": "f(x)",
          "x": 5.394654273986816,
          "y": -0.7761462926864624
         },
         {
          "series": "f(x)",
          "x": 5.458120822906494,
          "y": -0.734591543674469
         },
         {
          "series": "f(x)",
          "x": 5.521587371826172,
          "y": -0.6900787949562073
         },
         {
          "series": "f(x)",
          "x": 5.585053443908691,
          "y": -0.642787754535675
         },
         {
          "series": "f(x)",
          "x": 5.648519992828369,
          "y": -0.5929080247879028
         },
         {
          "series": "f(x)",
          "x": 5.711986541748047,
          "y": -0.5406408905982971
         },
         {
          "series": "f(x)",
          "x": 5.775453090667725,
          "y": -0.4861967861652374
         },
         {
          "series": "f(x)",
          "x": 5.838919639587402,
          "y": -0.42979493737220764
         },
         {
          "series": "f(x)",
          "x": 5.90238618850708,
          "y": -0.3716624677181244
         },
         {
          "series": "f(x)",
          "x": 5.965852737426758,
          "y": -0.31203341484069824
         },
         {
          "series": "f(x)",
          "x": 6.0293192863464355,
          "y": -0.25114792585372925
         },
         {
          "series": "f(x)",
          "x": 6.092785835266113,
          "y": -0.18925116956233978
         },
         {
          "series": "f(x)",
          "x": 6.156252384185791,
          "y": -0.12659233808517456
         },
         {
          "series": "f(x)",
          "x": 6.219718933105469,
          "y": -0.0634237751364708
         },
         {
          "series": "f(x)",
          "x": 6.2831854820251465,
          "y": 1.7484555314695172e-07
         },
         {
          "series": "fit",
          "x": 3.264693260192871,
          "y": -0.113600954413414
         },
         {
          "series": "fit",
          "x": 4.5493998527526855,
          "y": -0.7593548893928528
         },
         {
          "series": "fit",
          "x": 1.2535269260406494,
          "y": 0.7997615933418274
         },
         {
          "series": "fit",
          "x": 2.6732349395751953,
          "y": 0.3120998740196228
         },
         {
          "series": "fit",
          "x": 0.6512465476989746,
          "y": 0.6068720817565918
         },
         {
          "series": "fit",
          "x": 5.629796981811523,
          "y": -0.5886774659156799
         },
         {
          "series": "fit",
          "x": 1.2560300827026367,
          "y": 0.8001225590705872
         },
         {
          "series": "fit",
          "x": 0.44835513830184937,
          "y": 0.5132837891578674
         },
         {
          "series": "fit",
          "x": 1.2274291515350342,
          "y": 0.7957322597503662
         },
         {
          "series": "fit",
          "x": 1.7102787494659424,
          "y": 0.7868171334266663
         },
         {
          "series": "fit",
          "x": 5.534171104431152,
          "y": -0.6241406202316284
         }
        ]
       },
       "layer": [
        {
         "data": {
          "name": "data-128b9f7329723a2ebe55bf73a5c8051c"
         },
         "encoding": {
          "x": {
           "field": "x",
           "type": "quantitative"
          },
          "y": {
           "field": "y",
           "type": "quantitative"
          }
         },
         "mark": {
          "color": "springgreen",
          "strokeWidth": 3,
          "type": "line"
         },
         "transform": [
          {
           "filter": "(datum.series === 'f(x)')"
          }
         ],
         "width": 640
        },
        {
         "data": {
          "name": "data-e8e72eb53f67c6568ba39974a8115ace"
         },
         "encoding": {
          "color": {
           "field": "series",
           "scale": {
            "domain": [
             "train",
             "test",
             "fit"
            ],
            "range": [
             "slateblue",
             "#cd5a84",
             "orange"
            ]
           },
           "type": "nominal"
          },
          "tooltip": {
           "field": "y",
           "type": "quantitative"
          },
          "x": {
           "field": "x",
           "type": "quantitative"
          },
          "y": {
           "field": "y",
           "type": "quantitative"
          }
         },
         "mark": {
          "size": 100,
          "type": "circle"
         },
         "transform": [
          {
           "filter": "(datum.series !== 'f(x)')"
          }
         ]
        }
       ]
      },
      "image/png": "[encoded data removed]",
      "text/plain": [
       "<VegaLite 3 object>\n",
       "\n",
       "If you see this message, it means the renderer has not been properly enabled\n",
       "for the frontend that you are using. For more information, see\n",
       "https://altair-viz.github.io/user_guide/troubleshooting.html\n"
      ]
     },
     "execution_count": 18,
     "metadata": {},
     "output_type": "execute_result"
    }
   ],
   "source": [
    "plot_test(μ_test, x_test, data)"
   ]
  },
  {
   "cell_type": "markdown",
   "metadata": {},
   "source": [
    "So far this is more or less just linear regression. However we can fit a Multivariate Gaussian on the fited data."
   ]
  },
  {
   "cell_type": "markdown",
   "metadata": {},
   "source": [
    "## Let's now sample from the posterior"
   ]
  },
  {
   "cell_type": "code",
   "execution_count": 19,
   "metadata": {},
   "outputs": [],
   "source": [
    "def sample_posterior(x_train, x_test, y_train, sample_no=5):\n",
    "    \n",
    "    μ, Σ = gp(x_train, x_test, y_train, ϵ=0.1)\n",
    "    normal = torch.distributions.MultivariateNormal(μ.squeeze(), Σ + torch.eye(len(Σ))*0.00001)\n",
    "    \n",
    "    data = pd.DataFrame(list(zip(x_test.squeeze().numpy(), μ.squeeze().numpy(), ['fit']*len(μ))), columns=['x', 'y', 'series'])\n",
    "    for i in range(sample_no):\n",
    "        sample = normal.sample((1,))\n",
    "        data = data.append(\n",
    "            pd.DataFrame(list(zip(x_test.squeeze().numpy(), sample.squeeze().numpy(), [f's{i}']*len(μ))), columns=data.columns),\n",
    "            ignore_index=True\n",
    "        )\n",
    "    μ_plt = alt.Chart(data, width=640).mark_line(color='navy', strokeWidth=3).encode(\n",
    "        x='x',\n",
    "        y='y'\n",
    "    ).transform_filter((alt.datum.series == 'fit'))\n",
    "    posterior_plt = alt.Chart(data).mark_line(strokeWidth=2, opacity=0.5).encode(\n",
    "        x='x',\n",
    "        y='y',\n",
    "        color=alt.Color('series:O',\n",
    "                    scale=alt.Scale(scheme='blues'),\n",
    "                    legend=alt.Legend(title='p(θ)'))\n",
    "    ).transform_filter((alt.datum.series != 'fit'))\n",
    "    return (posterior_plt + μ_plt).resolve_scale(color='independent')"
   ]
  },
  {
   "cell_type": "code",
   "execution_count": 20,
   "metadata": {},
   "outputs": [
    {
     "name": "stdout",
     "output_type": "stream",
     "text": [
      "torch.Size([16, 16]) torch.Size([16, 50]) torch.Size([50, 50])\n"
     ]
    },
    {
     "data": {
      "application/vnd.vegalite.v3+json": {
       "$schema": "https://vega.github.io/schema/vega-lite/v3.2.1.json",
       "config": {
        "mark": {
         "tooltip": null
        },
        "view": {
         "height": 300,
         "width": 400
        }
       },
       "datasets": {
        "data-85f4feb3359b23fbf982a7399fb80774": [
         {
          "series": "fit",
          "x": -3,
          "y": 0.00011085713049396873
         },
         {
          "series": "fit",
          "x": -2.7551021575927734,
          "y": 0.00028376225964166224
         },
         {
          "series": "fit",
          "x": -2.5102040767669678,
          "y": 0.0006898660212755203
         },
         {
          "series": "fit",
          "x": -2.265305995941162,
          "y": 0.001593074412085116
         },
         {
          "series": "fit",
          "x": -2.0204081535339355,
          "y": 0.003494352800771594
         },
         {
          "series": "fit",
          "x": -1.7755101919174194,
          "y": 0.007279656361788511
         },
         {
          "series": "fit",
          "x": -1.5306122303009033,
          "y": 0.014400612562894821
         },
         {
          "series": "fit",
          "x": -1.2857142686843872,
          "y": 0.027043156325817108
         },
         {
          "series": "fit",
          "x": -1.040816307067871,
          "y": 0.04819424822926521
         },
         {
          "series": "fit",
          "x": -0.7959184646606445,
          "y": 0.08147702366113663
         },
         {
          "series": "fit",
          "x": -0.5510203838348389,
          "y": 0.1306210160255432
         },
         {
          "series": "fit",
          "x": -0.3061223030090332,
          "y": 0.1985042840242386
         },
         {
          "series": "fit",
          "x": -0.06122446060180664,
          "y": 0.2858653962612152
         },
         {
          "series": "fit",
          "x": 0.18367338180541992,
          "y": 0.390002965927124
         },
         {
          "series": "fit",
          "x": 0.4285714626312256,
          "y": 0.503959596157074
         },
         {
          "series": "fit",
          "x": 0.6734695434570312,
          "y": 0.6167037487030029
         },
         {
          "series": "fit",
          "x": 0.9183673858642578,
          "y": 0.714577317237854
         },
         {
          "series": "fit",
          "x": 1.1632652282714844,
          "y": 0.7838059067726135
         },
         {
          "series": "fit",
          "x": 1.408163070678711,
          "y": 0.8133717775344849
         },
         {
          "series": "fit",
          "x": 1.6530613899230957,
          "y": 0.7972825169563293
         },
         {
          "series": "fit",
          "x": 1.8979592323303223,
          "y": 0.7354423403739929
         },
         {
          "series": "fit",
          "x": 2.142857074737549,
          "y": 0.632896363735199
         },
         {
          "series": "fit",
          "x": 2.3877553939819336,
          "y": 0.4979206919670105
         },
         {
          "series": "fit",
          "x": 2.63265323638916,
          "y": 0.33987927436828613
         },
         {
          "series": "fit",
          "x": 2.8775510787963867,
          "y": 0.1677282154560089
         },
         {
          "series": "fit",
          "x": 3.1224489212036133,
          "y": -0.010414778254926205
         },
         {
          "series": "fit",
          "x": 3.36734676361084,
          "y": -0.18685570359230042
         },
         {
          "series": "fit",
          "x": 3.6122450828552246,
          "y": -0.35368719696998596
         },
         {
          "series": "fit",
          "x": 3.857142925262451,
          "y": -0.5025616884231567
         },
         {
          "series": "fit",
          "x": 4.102040767669678,
          "y": -0.6251822710037231
         },
         {
          "series": "fit",
          "x": 4.3469390869140625,
          "y": -0.714375913143158
         },
         {
          "series": "fit",
          "x": 4.591836929321289,
          "y": -0.7653351426124573
         },
         {
          "series": "fit",
          "x": 4.836734771728516,
          "y": -0.7765786051750183
         },
         {
          "series": "fit",
          "x": 5.081632614135742,
          "y": -0.7503291368484497
         },
         {
          "series": "fit",
          "x": 5.326530456542969,
          "y": -0.6922416090965271
         },
         {
          "series": "fit",
          "x": 5.571428298950195,
          "y": -0.6105709075927734
         },
         {
          "series": "fit",
          "x": 5.816326141357422,
          "y": -0.5149705410003662
         },
         {
          "series": "fit",
          "x": 6.061224937438965,
          "y": -0.4151447117328644
         },
         {
          "series": "fit",
          "x": 6.306122779846191,
          "y": -0.31959834694862366
         },
         {
          "series": "fit",
          "x": 6.551020622253418,
          "y": -0.23469460010528564
         },
         {
          "series": "fit",
          "x": 6.7959184646606445,
          "y": -0.1641913652420044
         },
         {
          "series": "fit",
          "x": 7.040816307067871,
          "y": -0.10929320752620697
         },
         {
          "series": "fit",
          "x": 7.285714149475098,
          "y": -0.06913493573665619
         },
         {
          "series": "fit",
          "x": 7.530611991882324,
          "y": -0.041511476039886475
         },
         {
          "series": "fit",
          "x": 7.775510787963867,
          "y": -0.02363496460020542
         },
         {
          "series": "fit",
          "x": 8.020408630371094,
          "y": -0.01274851430207491
         },
         {
          "series": "fit",
          "x": 8.26530647277832,
          "y": -0.006509241182357073
         },
         {
          "series": "fit",
          "x": 8.510204315185547,
          "y": -0.0031438497826457024
         },
         {
          "series": "fit",
          "x": 8.755102157592773,
          "y": -0.0014354571467265487
         },
         {
          "series": "fit",
          "x": 9,
          "y": -0.0006192821892909706
         },
         {
          "series": "s0",
          "x": -3,
          "y": -0.47706589102745056
         },
         {
          "series": "s0",
          "x": -2.7551021575927734,
          "y": -0.41901013255119324
         },
         {
          "series": "s0",
          "x": -2.5102040767669678,
          "y": -0.3612919747829437
         },
         {
          "series": "s0",
          "x": -2.265305995941162,
          "y": -0.3215261995792389
         },
         {
          "series": "s0",
          "x": -2.0204081535339355,
          "y": -0.29368454217910767
         },
         {
          "series": "s0",
          "x": -1.7755101919174194,
          "y": -0.2956250011920929
         },
         {
          "series": "s0",
          "x": -1.5306122303009033,
          "y": -0.30055782198905945
         },
         {
          "series": "s0",
          "x": -1.2857142686843872,
          "y": -0.3159140944480896
         },
         {
          "series": "s0",
          "x": -1.040816307067871,
          "y": -0.33049288392066956
         },
         {
          "series": "s0",
          "x": -0.7959184646606445,
          "y": -0.3326801657676697
         },
         {
          "series": "s0",
          "x": -0.5510203838348389,
          "y": -0.3045043349266052
         },
         {
          "series": "s0",
          "x": -0.3061223030090332,
          "y": -0.24439020454883575
         },
         {
          "series": "s0",
          "x": -0.06122446060180664,
          "y": -0.13446274399757385
         },
         {
          "series": "s0",
          "x": 0.18367338180541992,
          "y": 0.0312061607837677
         },
         {
          "series": "s0",
          "x": 0.4285714626312256,
          "y": 0.21944910287857056
         },
         {
          "series": "s0",
          "x": 0.6734695434570312,
          "y": 0.4289724826812744
         },
         {
          "series": "s0",
          "x": 0.9183673858642578,
          "y": 0.6106979846954346
         },
         {
          "series": "s0",
          "x": 1.1632652282714844,
          "y": 0.7338394522666931
         },
         {
          "series": "s0",
          "x": 1.408163070678711,
          "y": 0.8012347221374512
         },
         {
          "series": "s0",
          "x": 1.6530613899230957,
          "y": 0.7905122637748718
         },
         {
          "series": "s0",
          "x": 1.8979592323303223,
          "y": 0.7345823645591736
         },
         {
          "series": "s0",
          "x": 2.142857074737549,
          "y": 0.6114287376403809
         },
         {
          "series": "s0",
          "x": 2.3877553939819336,
          "y": 0.46868687868118286
         },
         {
          "series": "s0",
          "x": 2.63265323638916,
          "y": 0.31657108664512634
         },
         {
          "series": "s0",
          "x": 2.8775510787963867,
          "y": 0.15399473905563354
         },
         {
          "series": "s0",
          "x": 3.1224489212036133,
          "y": 0.00024092290550470352
         },
         {
          "series": "s0",
          "x": 3.36734676361084,
          "y": -0.17258411645889282
         },
         {
          "series": "s0",
          "x": 3.6122450828552246,
          "y": -0.34453144669532776
         },
         {
          "series": "s0",
          "x": 3.857142925262451,
          "y": -0.5247898101806641
         },
         {
          "series": "s0",
          "x": 4.102040767669678,
          "y": -0.6737096309661865
         },
         {
          "series": "s0",
          "x": 4.3469390869140625,
          "y": -0.7823376655578613
         },
         {
          "series": "s0",
          "x": 4.591836929321289,
          "y": -0.8397855162620544
         },
         {
          "series": "s0",
          "x": 4.836734771728516,
          "y": -0.8344652652740479
         },
         {
          "series": "s0",
          "x": 5.081632614135742,
          "y": -0.7640396952629089
         },
         {
          "series": "s0",
          "x": 5.326530456542969,
          "y": -0.6446420550346375
         },
         {
          "series": "s0",
          "x": 5.571428298950195,
          "y": -0.5033808946609497
         },
         {
          "series": "s0",
          "x": 5.816326141357422,
          "y": -0.38445156812667847
         },
         {
          "series": "s0",
          "x": 6.061224937438965,
          "y": -0.278004914522171
         },
         {
          "series": "s0",
          "x": 6.306122779846191,
          "y": -0.18387141823768616
         },
         {
          "series": "s0",
          "x": 6.551020622253418,
          "y": -0.11190968751907349
         },
         {
          "series": "s0",
          "x": 6.7959184646606445,
          "y": -0.04373025894165039
         },
         {
          "series": "s0",
          "x": 7.040816307067871,
          "y": 0.012512527406215668
         },
         {
          "series": "s0",
          "x": 7.285714149475098,
          "y": 0.056920766830444336
         },
         {
          "series": "s0",
          "x": 7.530611991882324,
          "y": 0.06774650514125824
         },
         {
          "series": "s0",
          "x": 7.775510787963867,
          "y": 0.07765687257051468
         },
         {
          "series": "s0",
          "x": 8.020408630371094,
          "y": 0.0829649418592453
         },
         {
          "series": "s0",
          "x": 8.26530647277832,
          "y": 0.1108471155166626
         },
         {
          "series": "s0",
          "x": 8.510204315185547,
          "y": 0.15791714191436768
         },
         {
          "series": "s0",
          "x": 8.755102157592773,
          "y": 0.21046753227710724
         },
         {
          "series": "s0",
          "x": 9,
          "y": 0.26490604877471924
         },
         {
          "series": "s1",
          "x": -3,
          "y": -0.2544025182723999
         },
         {
          "series": "s1",
          "x": -2.7551021575927734,
          "y": -0.11420997977256775
         },
         {
          "series": "s1",
          "x": -2.5102040767669678,
          "y": 0.0111019192263484
         },
         {
          "series": "s1",
          "x": -2.265305995941162,
          "y": 0.1209118589758873
         },
         {
          "series": "s1",
          "x": -2.0204081535339355,
          "y": 0.2096136510372162
         },
         {
          "series": "s1",
          "x": -1.7755101919174194,
          "y": 0.27514615654945374
         },
         {
          "series": "s1",
          "x": -1.5306122303009033,
          "y": 0.30462944507598877
         },
         {
          "series": "s1",
          "x": -1.2857142686843872,
          "y": 0.2883912920951843
         },
         {
          "series": "s1",
          "x": -1.040816307067871,
          "y": 0.2371843010187149
         },
         {
          "series": "s1",
          "x": -0.7959184646606445,
          "y": 0.1785840392112732
         },
         {
          "series": "s1",
          "x": -0.5510203838348389,
          "y": 0.11895397305488586
         },
         {
          "series": "s1",
          "x": -0.3061223030090332,
          "y": 0.12421254813671112
         },
         {
          "series": "s1",
          "x": -0.06122446060180664,
          "y": 0.1935196816921234
         },
         {
          "series": "s1",
          "x": 0.18367338180541992,
          "y": 0.3225319981575012
         },
         {
          "series": "s1",
          "x": 0.4285714626312256,
          "y": 0.5009803771972656
         },
         {
          "series": "s1",
          "x": 0.6734695434570312,
          "y": 0.6761325001716614
         },
         {
          "series": "s1",
          "x": 0.9183673858642578,
          "y": 0.8126240968704224
         },
         {
          "series": "s1",
          "x": 1.1632652282714844,
          "y": 0.872155487537384
         },
         {
          "series": "s1",
          "x": 1.408163070678711,
          "y": 0.8484710454940796
         },
         {
          "series": "s1",
          "x": 1.6530613899230957,
          "y": 0.7548199892044067
         },
         {
          "series": "s1",
          "x": 1.8979592323303223,
          "y": 0.6144295930862427
         },
         {
          "series": "s1",
          "x": 2.142857074737549,
          "y": 0.4606230854988098
         },
         {
          "series": "s1",
          "x": 2.3877553939819336,
          "y": 0.31955191493034363
         },
         {
          "series": "s1",
          "x": 2.63265323638916,
          "y": 0.18784549832344055
         },
         {
          "series": "s1",
          "x": 2.8775510787963867,
          "y": 0.06545280665159225
         },
         {
          "series": "s1",
          "x": 3.1224489212036133,
          "y": -0.051121730357408524
         },
         {
          "series": "s1",
          "x": 3.36734676361084,
          "y": -0.17413780093193054
         },
         {
          "series": "s1",
          "x": 3.6122450828552246,
          "y": -0.2937711775302887
         },
         {
          "series": "s1",
          "x": 3.857142925262451,
          "y": -0.42049193382263184
         },
         {
          "series": "s1",
          "x": 4.102040767669678,
          "y": -0.510490357875824
         },
         {
          "series": "s1",
          "x": 4.3469390869140625,
          "y": -0.5885339975357056
         },
         {
          "series": "s1",
          "x": 4.591836929321289,
          "y": -0.6192768812179565
         },
         {
          "series": "s1",
          "x": 4.836734771728516,
          "y": -0.6305840015411377
         },
         {
          "series": "s1",
          "x": 5.081632614135742,
          "y": -0.6036344170570374
         },
         {
          "series": "s1",
          "x": 5.326530456542969,
          "y": -0.5569002032279968
         },
         {
          "series": "s1",
          "x": 5.571428298950195,
          "y": -0.49451854825019836
         },
         {
          "series": "s1",
          "x": 5.816326141357422,
          "y": -0.4370679259300232
         },
         {
          "series": "s1",
          "x": 6.061224937438965,
          "y": -0.3787694573402405
         },
         {
          "series": "s1",
          "x": 6.306122779846191,
          "y": -0.3242610692977905
         },
         {
          "series": "s1",
          "x": 6.551020622253418,
          "y": -0.27690860629081726
         },
         {
          "series": "s1",
          "x": 6.7959184646606445,
          "y": -0.23944151401519775
         },
         {
          "series": "s1",
          "x": 7.040816307067871,
          "y": -0.1913633644580841
         },
         {
          "series": "s1",
          "x": 7.285714149475098,
          "y": -0.1497747302055359
         },
         {
          "series": "s1",
          "x": 7.530611991882324,
          "y": -0.10500761866569519
         },
         {
          "series": "s1",
          "x": 7.775510787963867,
          "y": -0.05779510736465454
         },
         {
          "series": "s1",
          "x": 8.020408630371094,
          "y": -0.019724588841199875
         },
         {
          "series": "s1",
          "x": 8.26530647277832,
          "y": 0.022896405309438705
         },
         {
          "series": "s1",
          "x": 8.510204315185547,
          "y": 0.07066330313682556
         },
         {
          "series": "s1",
          "x": 8.755102157592773,
          "y": 0.12928438186645508
         },
         {
          "series": "s1",
          "x": 9,
          "y": 0.22467412054538727
         },
         {
          "series": "s2",
          "x": -3,
          "y": 0.14745640754699707
         },
         {
          "series": "s2",
          "x": -2.7551021575927734,
          "y": 0.06612761318683624
         },
         {
          "series": "s2",
          "x": -2.5102040767669678,
          "y": 0.008347449824213982
         },
         {
          "series": "s2",
          "x": -2.265305995941162,
          "y": -0.0023661120794713497
         },
         {
          "series": "s2",
          "x": -2.0204081535339355,
          "y": 0.06300600618124008
         },
         {
          "series": "s2",
          "x": -1.7755101919174194,
          "y": 0.16845205426216125
         },
         {
          "series": "s2",
          "x": -1.5306122303009033,
          "y": 0.32270747423171997
         },
         {
          "series": "s2",
          "x": -1.2857142686843872,
          "y": 0.46285784244537354
         },
         {
          "series": "s2",
          "x": -1.040816307067871,
          "y": 0.5451146364212036
         },
         {
          "series": "s2",
          "x": -0.7959184646606445,
          "y": 0.5831215977668762
         },
         {
          "series": "s2",
          "x": -0.5510203838348389,
          "y": 0.5803084373474121
         },
         {
          "series": "s2",
          "x": -0.3061223030090332,
          "y": 0.5606791973114014
         },
         {
          "series": "s2",
          "x": -0.06122446060180664,
          "y": 0.5542880296707153
         },
         {
          "series": "s2",
          "x": 0.18367338180541992,
          "y": 0.5676976442337036
         },
         {
          "series": "s2",
          "x": 0.4285714626312256,
          "y": 0.6022778153419495
         },
         {
          "series": "s2",
          "x": 0.6734695434570312,
          "y": 0.66994309425354
         },
         {
          "series": "s2",
          "x": 0.9183673858642578,
          "y": 0.7444919943809509
         },
         {
          "series": "s2",
          "x": 1.1632652282714844,
          "y": 0.7990454435348511
         },
         {
          "series": "s2",
          "x": 1.408163070678711,
          "y": 0.837303638458252
         },
         {
          "series": "s2",
          "x": 1.6530613899230957,
          "y": 0.8358847498893738
         },
         {
          "series": "s2",
          "x": 1.8979592323303223,
          "y": 0.7953819632530212
         },
         {
          "series": "s2",
          "x": 2.142857074737549,
          "y": 0.7256574034690857
         },
         {
          "series": "s2",
          "x": 2.3877553939819336,
          "y": 0.6140987873077393
         },
         {
          "series": "s2",
          "x": 2.63265323638916,
          "y": 0.48103222250938416
         },
         {
          "series": "s2",
          "x": 2.8775510787963867,
          "y": 0.3067823350429535
         },
         {
          "series": "s2",
          "x": 3.1224489212036133,
          "y": 0.1176375150680542
         },
         {
          "series": "s2",
          "x": 3.36734676361084,
          "y": -0.07068969309329987
         },
         {
          "series": "s2",
          "x": 3.6122450828552246,
          "y": -0.24653200805187225
         },
         {
          "series": "s2",
          "x": 3.857142925262451,
          "y": -0.3813965618610382
         },
         {
          "series": "s2",
          "x": 4.102040767669678,
          "y": -0.4766319692134857
         },
         {
          "series": "s2",
          "x": 4.3469390869140625,
          "y": -0.5551599860191345
         },
         {
          "series": "s2",
          "x": 4.591836929321289,
          "y": -0.594469428062439
         },
         {
          "series": "s2",
          "x": 4.836734771728516,
          "y": -0.6114375591278076
         },
         {
          "series": "s2",
          "x": 5.081632614135742,
          "y": -0.5996462106704712
         },
         {
          "series": "s2",
          "x": 5.326530456542969,
          "y": -0.5557605624198914
         },
         {
          "series": "s2",
          "x": 5.571428298950195,
          "y": -0.4628441035747528
         },
         {
          "series": "s2",
          "x": 5.816326141357422,
          "y": -0.34895578026771545
         },
         {
          "series": "s2",
          "x": 6.061224937438965,
          "y": -0.20251095294952393
         },
         {
          "series": "s2",
          "x": 6.306122779846191,
          "y": -0.03987935185432434
         },
         {
          "series": "s2",
          "x": 6.551020622253418,
          "y": 0.12907397747039795
         },
         {
          "series": "s2",
          "x": 6.7959184646606445,
          "y": 0.27597934007644653
         },
         {
          "series": "s2",
          "x": 7.040816307067871,
          "y": 0.39967668056488037
         },
         {
          "series": "s2",
          "x": 7.285714149475098,
          "y": 0.4718613028526306
         },
         {
          "series": "s2",
          "x": 7.530611991882324,
          "y": 0.4887140989303589
         },
         {
          "series": "s2",
          "x": 7.775510787963867,
          "y": 0.4491160213947296
         },
         {
          "series": "s2",
          "x": 8.020408630371094,
          "y": 0.37769073247909546
         },
         {
          "series": "s2",
          "x": 8.26530647277832,
          "y": 0.3119303584098816
         },
         {
          "series": "s2",
          "x": 8.510204315185547,
          "y": 0.26198285818099976
         },
         {
          "series": "s2",
          "x": 8.755102157592773,
          "y": 0.2860996127128601
         },
         {
          "series": "s2",
          "x": 9,
          "y": 0.3688591718673706
         },
         {
          "series": "s3",
          "x": -3,
          "y": 0.1867475062608719
         },
         {
          "series": "s3",
          "x": -2.7551021575927734,
          "y": 0.22404971718788147
         },
         {
          "series": "s3",
          "x": -2.5102040767669678,
          "y": 0.26285433769226074
         },
         {
          "series": "s3",
          "x": -2.265305995941162,
          "y": 0.3058193325996399
         },
         {
          "series": "s3",
          "x": -2.0204081535339355,
          "y": 0.3396788239479065
         },
         {
          "series": "s3",
          "x": -1.7755101919174194,
          "y": 0.3881278336048126
         },
         {
          "series": "s3",
          "x": -1.5306122303009033,
          "y": 0.44365233182907104
         },
         {
          "series": "s3",
          "x": -1.2857142686843872,
          "y": 0.4846138656139374
         },
         {
          "series": "s3",
          "x": -1.040816307067871,
          "y": 0.5111777186393738
         },
         {
          "series": "s3",
          "x": -0.7959184646606445,
          "y": 0.5163492560386658
         },
         {
          "series": "s3",
          "x": -0.5510203838348389,
          "y": 0.4844238758087158
         },
         {
          "series": "s3",
          "x": -0.3061223030090332,
          "y": 0.45916157960891724
         },
         {
          "series": "s3",
          "x": -0.06122446060180664,
          "y": 0.44229620695114136
         },
         {
          "series": "s3",
          "x": 0.18367338180541992,
          "y": 0.48941531777381897
         },
         {
          "series": "s3",
          "x": 0.4285714626312256,
          "y": 0.5960647463798523
         },
         {
          "series": "s3",
          "x": 0.6734695434570312,
          "y": 0.7459536790847778
         },
         {
          "series": "s3",
          "x": 0.9183673858642578,
          "y": 0.9016741514205933
         },
         {
          "series": "s3",
          "x": 1.1632652282714844,
          "y": 1.0357095003128052
         },
         {
          "series": "s3",
          "x": 1.408163070678711,
          "y": 1.1306943893432617
         },
         {
          "series": "s3",
          "x": 1.6530613899230957,
          "y": 1.1715649366378784
         },
         {
          "series": "s3",
          "x": 1.8979592323303223,
          "y": 1.1554851531982422
         },
         {
          "series": "s3",
          "x": 2.142857074737549,
          "y": 1.0729637145996094
         },
         {
          "series": "s3",
          "x": 2.3877553939819336,
          "y": 0.9261674880981445
         },
         {
          "series": "s3",
          "x": 2.63265323638916,
          "y": 0.6903928518295288
         },
         {
          "series": "s3",
          "x": 2.8775510787963867,
          "y": 0.37920498847961426
         },
         {
          "series": "s3",
          "x": 3.1224489212036133,
          "y": 0.010729060508310795
         },
         {
          "series": "s3",
          "x": 3.36734676361084,
          "y": -0.33180034160614014
         },
         {
          "series": "s3",
          "x": 3.6122450828552246,
          "y": -0.6382894515991211
         },
         {
          "series": "s3",
          "x": 3.857142925262451,
          "y": -0.8622484803199768
         },
         {
          "series": "s3",
          "x": 4.102040767669678,
          "y": -1.002375841140747
         },
         {
          "series": "s3",
          "x": 4.3469390869140625,
          "y": -1.0561596155166626
         },
         {
          "series": "s3",
          "x": 4.591836929321289,
          "y": -1.0594501495361328
         },
         {
          "series": "s3",
          "x": 4.836734771728516,
          "y": -1.0239752531051636
         },
         {
          "series": "s3",
          "x": 5.081632614135742,
          "y": -0.9747806191444397
         },
         {
          "series": "s3",
          "x": 5.326530456542969,
          "y": -0.9040734767913818
         },
         {
          "series": "s3",
          "x": 5.571428298950195,
          "y": -0.8351044058799744
         },
         {
          "series": "s3",
          "x": 5.816326141357422,
          "y": -0.767167329788208
         },
         {
          "series": "s3",
          "x": 6.061224937438965,
          "y": -0.7068088054656982
         },
         {
          "series": "s3",
          "x": 6.306122779846191,
          "y": -0.6272838115692139
         },
         {
          "series": "s3",
          "x": 6.551020622253418,
          "y": -0.5209337472915649
         },
         {
          "series": "s3",
          "x": 6.7959184646606445,
          "y": -0.3790244162082672
         },
         {
          "series": "s3",
          "x": 7.040816307067871,
          "y": -0.20282001793384552
         },
         {
          "series": "s3",
          "x": 7.285714149475098,
          "y": -0.018172696232795715
         },
         {
          "series": "s3",
          "x": 7.530611991882324,
          "y": 0.15587639808654785
         },
         {
          "series": "s3",
          "x": 7.775510787963867,
          "y": 0.28180772066116333
         },
         {
          "series": "s3",
          "x": 8.020408630371094,
          "y": 0.36751019954681396
         },
         {
          "series": "s3",
          "x": 8.26530647277832,
          "y": 0.39986053109169006
         },
         {
          "series": "s3",
          "x": 8.510204315185547,
          "y": 0.39157217741012573
         },
         {
          "series": "s3",
          "x": 8.755102157592773,
          "y": 0.35549408197402954
         },
         {
          "series": "s3",
          "x": 9,
          "y": 0.3026977777481079
         },
         {
          "series": "s4",
          "x": -3,
          "y": -0.23829354345798492
         },
         {
          "series": "s4",
          "x": -2.7551021575927734,
          "y": -0.19663403928279877
         },
         {
          "series": "s4",
          "x": -2.5102040767669678,
          "y": -0.1336732804775238
         },
         {
          "series": "s4",
          "x": -2.265305995941162,
          "y": -0.07698934525251389
         },
         {
          "series": "s4",
          "x": -2.0204081535339355,
          "y": -0.008184579201042652
         },
         {
          "series": "s4",
          "x": -1.7755101919174194,
          "y": 0.0774400532245636
         },
         {
          "series": "s4",
          "x": -1.5306122303009033,
          "y": 0.15853001177310944
         },
         {
          "series": "s4",
          "x": -1.2857142686843872,
          "y": 0.2343299388885498
         },
         {
          "series": "s4",
          "x": -1.040816307067871,
          "y": 0.2879787087440491
         },
         {
          "series": "s4",
          "x": -0.7959184646606445,
          "y": 0.32536011934280396
         },
         {
          "series": "s4",
          "x": -0.5510203838348389,
          "y": 0.3556605279445648
         },
         {
          "series": "s4",
          "x": -0.3061223030090332,
          "y": 0.381691575050354
         },
         {
          "series": "s4",
          "x": -0.06122446060180664,
          "y": 0.4210273027420044
         },
         {
          "series": "s4",
          "x": 0.18367338180541992,
          "y": 0.4986211061477661
         },
         {
          "series": "s4",
          "x": 0.4285714626312256,
          "y": 0.5853406190872192
         },
         {
          "series": "s4",
          "x": 0.6734695434570312,
          "y": 0.6872732639312744
         },
         {
          "series": "s4",
          "x": 0.9183673858642578,
          "y": 0.7620809078216553
         },
         {
          "series": "s4",
          "x": 1.1632652282714844,
          "y": 0.7931777238845825
         },
         {
          "series": "s4",
          "x": 1.408163070678711,
          "y": 0.7736313343048096
         },
         {
          "series": "s4",
          "x": 1.6530613899230957,
          "y": 0.6906901597976685
         },
         {
          "series": "s4",
          "x": 1.8979592323303223,
          "y": 0.5817848443984985
         },
         {
          "series": "s4",
          "x": 2.142857074737549,
          "y": 0.4558990001678467
         },
         {
          "series": "s4",
          "x": 2.3877553939819336,
          "y": 0.3384504020214081
         },
         {
          "series": "s4",
          "x": 2.63265323638916,
          "y": 0.22276298701763153
         },
         {
          "series": "s4",
          "x": 2.8775510787963867,
          "y": 0.0842413604259491
         },
         {
          "series": "s4",
          "x": 3.1224489212036133,
          "y": -0.06915700435638428
         },
         {
          "series": "s4",
          "x": 3.36734676361084,
          "y": -0.24127648770809174
         },
         {
          "series": "s4",
          "x": 3.6122450828552246,
          "y": -0.4168447256088257
         },
         {
          "series": "s4",
          "x": 3.857142925262451,
          "y": -0.5664472579956055
         },
         {
          "series": "s4",
          "x": 4.102040767669678,
          "y": -0.6745569109916687
         },
         {
          "series": "s4",
          "x": 4.3469390869140625,
          "y": -0.7440289258956909
         },
         {
          "series": "s4",
          "x": 4.591836929321289,
          "y": -0.7690001726150513
         },
         {
          "series": "s4",
          "x": 4.836734771728516,
          "y": -0.7793434262275696
         },
         {
          "series": "s4",
          "x": 5.081632614135742,
          "y": -0.7717412710189819
         },
         {
          "series": "s4",
          "x": 5.326530456542969,
          "y": -0.7407902479171753
         },
         {
          "series": "s4",
          "x": 5.571428298950195,
          "y": -0.6802659034729004
         },
         {
          "series": "s4",
          "x": 5.816326141357422,
          "y": -0.5949404239654541
         },
         {
          "series": "s4",
          "x": 6.061224937438965,
          "y": -0.4672091007232666
         },
         {
          "series": "s4",
          "x": 6.306122779846191,
          "y": -0.3028561770915985
         },
         {
          "series": "s4",
          "x": 6.551020622253418,
          "y": -0.12583255767822266
         },
         {
          "series": "s4",
          "x": 6.7959184646606445,
          "y": 0.05063684284687042
         },
         {
          "series": "s4",
          "x": 7.040816307067871,
          "y": 0.2053474634885788
         },
         {
          "series": "s4",
          "x": 7.285714149475098,
          "y": 0.29065293073654175
         },
         {
          "series": "s4",
          "x": 7.530611991882324,
          "y": 0.30951017141342163
         },
         {
          "series": "s4",
          "x": 7.775510787963867,
          "y": 0.24198070168495178
         },
         {
          "series": "s4",
          "x": 8.020408630371094,
          "y": 0.1237950250506401
         },
         {
          "series": "s4",
          "x": 8.26530647277832,
          "y": -0.02919914200901985
         },
         {
          "series": "s4",
          "x": 8.510204315185547,
          "y": -0.2065506875514984
         },
         {
          "series": "s4",
          "x": 8.755102157592773,
          "y": -0.37289756536483765
         },
         {
          "series": "s4",
          "x": 9,
          "y": -0.5260170698165894
         },
         {
          "series": "s5",
          "x": -3,
          "y": -0.3321194648742676
         },
         {
          "series": "s5",
          "x": -2.7551021575927734,
          "y": -0.37945660948753357
         },
         {
          "series": "s5",
          "x": -2.5102040767669678,
          "y": -0.39194589853286743
         },
         {
          "series": "s5",
          "x": -2.265305995941162,
          "y": -0.36264538764953613
         },
         {
          "series": "s5",
          "x": -2.0204081535339355,
          "y": -0.3036006987094879
         },
         {
          "series": "s5",
          "x": -1.7755101919174194,
          "y": -0.20617787539958954
         },
         {
          "series": "s5",
          "x": -1.5306122303009033,
          "y": -0.08473421633243561
         },
         {
          "series": "s5",
          "x": -1.2857142686843872,
          "y": 0.049487121403217316
         },
         {
          "series": "s5",
          "x": -1.040816307067871,
          "y": 0.1682235300540924
         },
         {
          "series": "s5",
          "x": -0.7959184646606445,
          "y": 0.25408226251602173
         },
         {
          "series": "s5",
          "x": -0.5510203838348389,
          "y": 0.3029443025588989
         },
         {
          "series": "s5",
          "x": -0.3061223030090332,
          "y": 0.3505709171295166
         },
         {
          "series": "s5",
          "x": -0.06122446060180664,
          "y": 0.41670674085617065
         },
         {
          "series": "s5",
          "x": 0.18367338180541992,
          "y": 0.5044272541999817
         },
         {
          "series": "s5",
          "x": 0.4285714626312256,
          "y": 0.6428263187408447
         },
         {
          "series": "s5",
          "x": 0.6734695434570312,
          "y": 0.7823578119277954
         },
         {
          "series": "s5",
          "x": 0.9183673858642578,
          "y": 0.9170363545417786
         },
         {
          "series": "s5",
          "x": 1.1632652282714844,
          "y": 0.997641384601593
         },
         {
          "series": "s5",
          "x": 1.408163070678711,
          "y": 1.0047277212142944
         },
         {
          "series": "s5",
          "x": 1.6530613899230957,
          "y": 0.9398276805877686
         },
         {
          "series": "s5",
          "x": 1.8979592323303223,
          "y": 0.834152102470398
         },
         {
          "series": "s5",
          "x": 2.142857074737549,
          "y": 0.6899909377098083
         },
         {
          "series": "s5",
          "x": 2.3877553939819336,
          "y": 0.5322837829589844
         },
         {
          "series": "s5",
          "x": 2.63265323638916,
          "y": 0.34748610854148865
         },
         {
          "series": "s5",
          "x": 2.8775510787963867,
          "y": 0.14587566256523132
         },
         {
          "series": "s5",
          "x": 3.1224489212036133,
          "y": -0.06961474567651749
         },
         {
          "series": "s5",
          "x": 3.36734676361084,
          "y": -0.27556508779525757
         },
         {
          "series": "s5",
          "x": 3.6122450828552246,
          "y": -0.44759103655815125
         },
         {
          "series": "s5",
          "x": 3.857142925262451,
          "y": -0.5619661211967468
         },
         {
          "series": "s5",
          "x": 4.102040767669678,
          "y": -0.6170240640640259
         },
         {
          "series": "s5",
          "x": 4.3469390869140625,
          "y": -0.6284633278846741
         },
         {
          "series": "s5",
          "x": 4.591836929321289,
          "y": -0.608924150466919
         },
         {
          "series": "s5",
          "x": 4.836734771728516,
          "y": -0.5862044095993042
         },
         {
          "series": "s5",
          "x": 5.081632614135742,
          "y": -0.5819429159164429
         },
         {
          "series": "s5",
          "x": 5.326530456542969,
          "y": -0.5965889096260071
         },
         {
          "series": "s5",
          "x": 5.571428298950195,
          "y": -0.6162049174308777
         },
         {
          "series": "s5",
          "x": 5.816326141357422,
          "y": -0.6411541700363159
         },
         {
          "series": "s5",
          "x": 6.061224937438965,
          "y": -0.6449998021125793
         },
         {
          "series": "s5",
          "x": 6.306122779846191,
          "y": -0.6255747675895691
         },
         {
          "series": "s5",
          "x": 6.551020622253418,
          "y": -0.5621846914291382
         },
         {
          "series": "s5",
          "x": 6.7959184646606445,
          "y": -0.45118051767349243
         },
         {
          "series": "s5",
          "x": 7.040816307067871,
          "y": -0.2947269082069397
         },
         {
          "series": "s5",
          "x": 7.285714149475098,
          "y": -0.11428869515657425
         },
         {
          "series": "s5",
          "x": 7.530611991882324,
          "y": 0.04673709720373154
         },
         {
          "series": "s5",
          "x": 7.775510787963867,
          "y": 0.17844901978969574
         },
         {
          "series": "s5",
          "x": 8.020408630371094,
          "y": 0.24380895495414734
         },
         {
          "series": "s5",
          "x": 8.26530647277832,
          "y": 0.26337894797325134
         },
         {
          "series": "s5",
          "x": 8.510204315185547,
          "y": 0.26016494631767273
         },
         {
          "series": "s5",
          "x": 8.755102157592773,
          "y": 0.23429815471172333
         },
         {
          "series": "s5",
          "x": 9,
          "y": 0.2495451122522354
         },
         {
          "series": "s6",
          "x": -3,
          "y": -0.22472618520259857
         },
         {
          "series": "s6",
          "x": -2.7551021575927734,
          "y": -0.26977822184562683
         },
         {
          "series": "s6",
          "x": -2.5102040767669678,
          "y": -0.3106823265552521
         },
         {
          "series": "s6",
          "x": -2.265305995941162,
          "y": -0.3248150050640106
         },
         {
          "series": "s6",
          "x": -2.0204081535339355,
          "y": -0.3251896798610687
         },
         {
          "series": "s6",
          "x": -1.7755101919174194,
          "y": -0.33049196004867554
         },
         {
          "series": "s6",
          "x": -1.5306122303009033,
          "y": -0.34388548135757446
         },
         {
          "series": "s6",
          "x": -1.2857142686843872,
          "y": -0.33574873208999634
         },
         {
          "series": "s6",
          "x": -1.040816307067871,
          "y": -0.3124692440032959
         },
         {
          "series": "s6",
          "x": -0.7959184646606445,
          "y": -0.2612946629524231
         },
         {
          "series": "s6",
          "x": -0.5510203838348389,
          "y": -0.19237029552459717
         },
         {
          "series": "s6",
          "x": -0.3061223030090332,
          "y": -0.09812144935131073
         },
         {
          "series": "s6",
          "x": -0.06122446060180664,
          "y": 0.038558393716812134
         },
         {
          "series": "s6",
          "x": 0.18367338180541992,
          "y": 0.19523005187511444
         },
         {
          "series": "s6",
          "x": 0.4285714626312256,
          "y": 0.4005585312843323
         },
         {
          "series": "s6",
          "x": 0.6734695434570312,
          "y": 0.5909143090248108
         },
         {
          "series": "s6",
          "x": 0.9183673858642578,
          "y": 0.7548345327377319
         },
         {
          "series": "s6",
          "x": 1.1632652282714844,
          "y": 0.8483023047447205
         },
         {
          "series": "s6",
          "x": 1.408163070678711,
          "y": 0.8539711236953735
         },
         {
          "series": "s6",
          "x": 1.6530613899230957,
          "y": 0.7858445048332214
         },
         {
          "series": "s6",
          "x": 1.8979592323303223,
          "y": 0.6714305281639099
         },
         {
          "series": "s6",
          "x": 2.142857074737549,
          "y": 0.5381578803062439
         },
         {
          "series": "s6",
          "x": 2.3877553939819336,
          "y": 0.4065003991127014
         },
         {
          "series": "s6",
          "x": 2.63265323638916,
          "y": 0.25898081064224243
         },
         {
          "series": "s6",
          "x": 2.8775510787963867,
          "y": 0.09423571825027466
         },
         {
          "series": "s6",
          "x": 3.1224489212036133,
          "y": -0.09387150406837463
         },
         {
          "series": "s6",
          "x": 3.36734676361084,
          "y": -0.2966999113559723
         },
         {
          "series": "s6",
          "x": 3.6122450828552246,
          "y": -0.5039951801300049
         },
         {
          "series": "s6",
          "x": 3.857142925262451,
          "y": -0.6836820840835571
         },
         {
          "series": "s6",
          "x": 4.102040767669678,
          "y": -0.8158522844314575
         },
         {
          "series": "s6",
          "x": 4.3469390869140625,
          "y": -0.9036446809768677
         },
         {
          "series": "s6",
          "x": 4.591836929321289,
          "y": -0.9274016618728638
         },
         {
          "series": "s6",
          "x": 4.836734771728516,
          "y": -0.908078670501709
         },
         {
          "series": "s6",
          "x": 5.081632614135742,
          "y": -0.8423612117767334
         },
         {
          "series": "s6",
          "x": 5.326530456542969,
          "y": -0.768536388874054
         },
         {
          "series": "s6",
          "x": 5.571428298950195,
          "y": -0.6787735223770142
         },
         {
          "series": "s6",
          "x": 5.816326141357422,
          "y": -0.5901291370391846
         },
         {
          "series": "s6",
          "x": 6.061224937438965,
          "y": -0.4872184991836548
         },
         {
          "series": "s6",
          "x": 6.306122779846191,
          "y": -0.3902971148490906
         },
         {
          "series": "s6",
          "x": 6.551020622253418,
          "y": -0.30990782380104065
         },
         {
          "series": "s6",
          "x": 6.7959184646606445,
          "y": -0.25076502561569214
         },
         {
          "series": "s6",
          "x": 7.040816307067871,
          "y": -0.22482194006443024
         },
         {
          "series": "s6",
          "x": 7.285714149475098,
          "y": -0.22496235370635986
         },
         {
          "series": "s6",
          "x": 7.530611991882324,
          "y": -0.22356805205345154
         },
         {
          "series": "s6",
          "x": 7.775510787963867,
          "y": -0.1993900090456009
         },
         {
          "series": "s6",
          "x": 8.020408630371094,
          "y": -0.14320187270641327
         },
         {
          "series": "s6",
          "x": 8.26530647277832,
          "y": -0.06485341489315033
         },
         {
          "series": "s6",
          "x": 8.510204315185547,
          "y": 0.030774030834436417
         },
         {
          "series": "s6",
          "x": 8.755102157592773,
          "y": 0.0956806093454361
         },
         {
          "series": "s6",
          "x": 9,
          "y": 0.11322502046823502
         },
         {
          "series": "s7",
          "x": -3,
          "y": 0.009903805330395699
         },
         {
          "series": "s7",
          "x": -2.7551021575927734,
          "y": -0.10131239891052246
         },
         {
          "series": "s7",
          "x": -2.5102040767669678,
          "y": -0.24713626503944397
         },
         {
          "series": "s7",
          "x": -2.265305995941162,
          "y": -0.3792519271373749
         },
         {
          "series": "s7",
          "x": -2.0204081535339355,
          "y": -0.4811922013759613
         },
         {
          "series": "s7",
          "x": -1.7755101919174194,
          "y": -0.521160364151001
         },
         {
          "series": "s7",
          "x": -1.5306122303009033,
          "y": -0.47783511877059937
         },
         {
          "series": "s7",
          "x": -1.2857142686843872,
          "y": -0.38564977049827576
         },
         {
          "series": "s7",
          "x": -1.040816307067871,
          "y": -0.24915526807308197
         },
         {
          "series": "s7",
          "x": -0.7959184646606445,
          "y": -0.11583789438009262
         },
         {
          "series": "s7",
          "x": -0.5510203838348389,
          "y": 0.02256619930267334
         },
         {
          "series": "s7",
          "x": -0.3061223030090332,
          "y": 0.12956584990024567
         },
         {
          "series": "s7",
          "x": -0.06122446060180664,
          "y": 0.23535451292991638
         },
         {
          "series": "s7",
          "x": 0.18367338180541992,
          "y": 0.3638756573200226
         },
         {
          "series": "s7",
          "x": 0.4285714626312256,
          "y": 0.49973511695861816
         },
         {
          "series": "s7",
          "x": 0.6734695434570312,
          "y": 0.6326515674591064
         },
         {
          "series": "s7",
          "x": 0.9183673858642578,
          "y": 0.7452830076217651
         },
         {
          "series": "s7",
          "x": 1.1632652282714844,
          "y": 0.8091948628425598
         },
         {
          "series": "s7",
          "x": 1.408163070678711,
          "y": 0.8076357245445251
         },
         {
          "series": "s7",
          "x": 1.6530613899230957,
          "y": 0.7383099794387817
         },
         {
          "series": "s7",
          "x": 1.8979592323303223,
          "y": 0.5986852049827576
         },
         {
          "series": "s7",
          "x": 2.142857074737549,
          "y": 0.42822983860969543
         },
         {
          "series": "s7",
          "x": 2.3877553939819336,
          "y": 0.22459515929222107
         },
         {
          "series": "s7",
          "x": 2.63265323638916,
          "y": 0.033764004707336426
         },
         {
          "series": "s7",
          "x": 2.8775510787963867,
          "y": -0.1490662395954132
         },
         {
          "series": "s7",
          "x": 3.1224489212036133,
          "y": -0.30344709753990173
         },
         {
          "series": "s7",
          "x": 3.36734676361084,
          "y": -0.4293760657310486
         },
         {
          "series": "s7",
          "x": 3.6122450828552246,
          "y": -0.5236169695854187
         },
         {
          "series": "s7",
          "x": 3.857142925262451,
          "y": -0.5954420566558838
         },
         {
          "series": "s7",
          "x": 4.102040767669678,
          "y": -0.6580153703689575
         },
         {
          "series": "s7",
          "x": 4.3469390869140625,
          "y": -0.7037994265556335
         },
         {
          "series": "s7",
          "x": 4.591836929321289,
          "y": -0.7383875250816345
         },
         {
          "series": "s7",
          "x": 4.836734771728516,
          "y": -0.7538270354270935
         },
         {
          "series": "s7",
          "x": 5.081632614135742,
          "y": -0.7293540835380554
         },
         {
          "series": "s7",
          "x": 5.326530456542969,
          "y": -0.6674968004226685
         },
         {
          "series": "s7",
          "x": 5.571428298950195,
          "y": -0.5505452156066895
         },
         {
          "series": "s7",
          "x": 5.816326141357422,
          "y": -0.38748452067375183
         },
         {
          "series": "s7",
          "x": 6.061224937438965,
          "y": -0.20717328786849976
         },
         {
          "series": "s7",
          "x": 6.306122779846191,
          "y": -0.008997708559036255
         },
         {
          "series": "s7",
          "x": 6.551020622253418,
          "y": 0.15695589780807495
         },
         {
          "series": "s7",
          "x": 6.7959184646606445,
          "y": 0.2925891876220703
         },
         {
          "series": "s7",
          "x": 7.040816307067871,
          "y": 0.38192540407180786
         },
         {
          "series": "s7",
          "x": 7.285714149475098,
          "y": 0.4324467182159424
         },
         {
          "series": "s7",
          "x": 7.530611991882324,
          "y": 0.4653381109237671
         },
         {
          "series": "s7",
          "x": 7.775510787963867,
          "y": 0.45771342515945435
         },
         {
          "series": "s7",
          "x": 8.020408630371094,
          "y": 0.43901386857032776
         },
         {
          "series": "s7",
          "x": 8.26530647277832,
          "y": 0.381382018327713
         },
         {
          "series": "s7",
          "x": 8.510204315185547,
          "y": 0.2922309637069702
         },
         {
          "series": "s7",
          "x": 8.755102157592773,
          "y": 0.17856161296367645
         },
         {
          "series": "s7",
          "x": 9,
          "y": 0.062437962740659714
         },
         {
          "series": "s8",
          "x": -3,
          "y": -0.1974252462387085
         },
         {
          "series": "s8",
          "x": -2.7551021575927734,
          "y": -0.07736162841320038
         },
         {
          "series": "s8",
          "x": -2.5102040767669678,
          "y": 0.02153095044195652
         },
         {
          "series": "s8",
          "x": -2.265305995941162,
          "y": 0.09671840816736221
         },
         {
          "series": "s8",
          "x": -2.0204081535339355,
          "y": 0.14794164896011353
         },
         {
          "series": "s8",
          "x": -1.7755101919174194,
          "y": 0.17484934628009796
         },
         {
          "series": "s8",
          "x": -1.5306122303009033,
          "y": 0.1728333681821823
         },
         {
          "series": "s8",
          "x": -1.2857142686843872,
          "y": 0.1488087773323059
         },
         {
          "series": "s8",
          "x": -1.040816307067871,
          "y": 0.11186432838439941
         },
         {
          "series": "s8",
          "x": -0.7959184646606445,
          "y": 0.07975205034017563
         },
         {
          "series": "s8",
          "x": -0.5510203838348389,
          "y": 0.10011102259159088
         },
         {
          "series": "s8",
          "x": -0.3061223030090332,
          "y": 0.17290866374969482
         },
         {
          "series": "s8",
          "x": -0.06122446060180664,
          "y": 0.3061693608760834
         },
         {
          "series": "s8",
          "x": 0.18367338180541992,
          "y": 0.4955689311027527
         },
         {
          "series": "s8",
          "x": 0.4285714626312256,
          "y": 0.6867706775665283
         },
         {
          "series": "s8",
          "x": 0.6734695434570312,
          "y": 0.8567671775817871
         },
         {
          "series": "s8",
          "x": 0.9183673858642578,
          "y": 0.9658400416374207
         },
         {
          "series": "s8",
          "x": 1.1632652282714844,
          "y": 1.0036888122558594
         },
         {
          "series": "s8",
          "x": 1.408163070678711,
          "y": 0.9496567249298096
         },
         {
          "series": "s8",
          "x": 1.6530613899230957,
          "y": 0.8141916990280151
         },
         {
          "series": "s8",
          "x": 1.8979592323303223,
          "y": 0.6220172643661499
         },
         {
          "series": "s8",
          "x": 2.142857074737549,
          "y": 0.39795857667922974
         },
         {
          "series": "s8",
          "x": 2.3877553939819336,
          "y": 0.18904966115951538
         },
         {
          "series": "s8",
          "x": 2.63265323638916,
          "y": -0.007048070430755615
         },
         {
          "series": "s8",
          "x": 2.8775510787963867,
          "y": -0.1383657157421112
         },
         {
          "series": "s8",
          "x": 3.1224489212036133,
          "y": -0.25627824664115906
         },
         {
          "series": "s8",
          "x": 3.36734676361084,
          "y": -0.3469914197921753
         },
         {
          "series": "s8",
          "x": 3.6122450828552246,
          "y": -0.4443972110748291
         },
         {
          "series": "s8",
          "x": 3.857142925262451,
          "y": -0.5310948491096497
         },
         {
          "series": "s8",
          "x": 4.102040767669678,
          "y": -0.6409587860107422
         },
         {
          "series": "s8",
          "x": 4.3469390869140625,
          "y": -0.7524530291557312
         },
         {
          "series": "s8",
          "x": 4.591836929321289,
          "y": -0.8621588945388794
         },
         {
          "series": "s8",
          "x": 4.836734771728516,
          "y": -0.951335072517395
         },
         {
          "series": "s8",
          "x": 5.081632614135742,
          "y": -0.9870748519897461
         },
         {
          "series": "s8",
          "x": 5.326530456542969,
          "y": -0.968133807182312
         },
         {
          "series": "s8",
          "x": 5.571428298950195,
          "y": -0.9012466669082642
         },
         {
          "series": "s8",
          "x": 5.816326141357422,
          "y": -0.7776533365249634
         },
         {
          "series": "s8",
          "x": 6.061224937438965,
          "y": -0.6370945572853088
         },
         {
          "series": "s8",
          "x": 6.306122779846191,
          "y": -0.4888648986816406
         },
         {
          "series": "s8",
          "x": 6.551020622253418,
          "y": -0.3432129919528961
         },
         {
          "series": "s8",
          "x": 6.7959184646606445,
          "y": -0.1981038600206375
         },
         {
          "series": "s8",
          "x": 7.040816307067871,
          "y": -0.06414180994033813
         },
         {
          "series": "s8",
          "x": 7.285714149475098,
          "y": 0.05932435393333435
         },
         {
          "series": "s8",
          "x": 7.530611991882324,
          "y": 0.15861131250858307
         },
         {
          "series": "s8",
          "x": 7.775510787963867,
          "y": 0.24389034509658813
         },
         {
          "series": "s8",
          "x": 8.020408630371094,
          "y": 0.29702243208885193
         },
         {
          "series": "s8",
          "x": 8.26530647277832,
          "y": 0.32488900423049927
         },
         {
          "series": "s8",
          "x": 8.510204315185547,
          "y": 0.3083663582801819
         },
         {
          "series": "s8",
          "x": 8.755102157592773,
          "y": 0.2702152132987976
         },
         {
          "series": "s8",
          "x": 9,
          "y": 0.19614394009113312
         },
         {
          "series": "s9",
          "x": -3,
          "y": -0.1919485628604889
         },
         {
          "series": "s9",
          "x": -2.7551021575927734,
          "y": -0.15337541699409485
         },
         {
          "series": "s9",
          "x": -2.5102040767669678,
          "y": -0.09339962154626846
         },
         {
          "series": "s9",
          "x": -2.265305995941162,
          "y": -0.019167354330420494
         },
         {
          "series": "s9",
          "x": -2.0204081535339355,
          "y": 0.057719044387340546
         },
         {
          "series": "s9",
          "x": -1.7755101919174194,
          "y": 0.12666168808937073
         },
         {
          "series": "s9",
          "x": -1.5306122303009033,
          "y": 0.15050891041755676
         },
         {
          "series": "s9",
          "x": -1.2857142686843872,
          "y": 0.13247911632061005
         },
         {
          "series": "s9",
          "x": -1.040816307067871,
          "y": 0.10599119961261749
         },
         {
          "series": "s9",
          "x": -0.7959184646606445,
          "y": 0.08997093141078949
         },
         {
          "series": "s9",
          "x": -0.5510203838348389,
          "y": 0.1222919374704361
         },
         {
          "series": "s9",
          "x": -0.3061223030090332,
          "y": 0.18619093298912048
         },
         {
          "series": "s9",
          "x": -0.06122446060180664,
          "y": 0.28484198451042175
         },
         {
          "series": "s9",
          "x": 0.18367338180541992,
          "y": 0.3797176778316498
         },
         {
          "series": "s9",
          "x": 0.4285714626312256,
          "y": 0.46143171191215515
         },
         {
          "series": "s9",
          "x": 0.6734695434570312,
          "y": 0.5352687835693359
         },
         {
          "series": "s9",
          "x": 0.9183673858642578,
          "y": 0.5950682759284973
         },
         {
          "series": "s9",
          "x": 1.1632652282714844,
          "y": 0.6625955104827881
         },
         {
          "series": "s9",
          "x": 1.408163070678711,
          "y": 0.7296713590621948
         },
         {
          "series": "s9",
          "x": 1.6530613899230957,
          "y": 0.778319239616394
         },
         {
          "series": "s9",
          "x": 1.8979592323303223,
          "y": 0.7807255387306213
         },
         {
          "series": "s9",
          "x": 2.142857074737549,
          "y": 0.7185575366020203
         },
         {
          "series": "s9",
          "x": 2.3877553939819336,
          "y": 0.5982657074928284
         },
         {
          "series": "s9",
          "x": 2.63265323638916,
          "y": 0.4266183078289032
         },
         {
          "series": "s9",
          "x": 2.8775510787963867,
          "y": 0.21114352345466614
         },
         {
          "series": "s9",
          "x": 3.1224489212036133,
          "y": -0.008963829837739468
         },
         {
          "series": "s9",
          "x": 3.36734676361084,
          "y": -0.24431771039962769
         },
         {
          "series": "s9",
          "x": 3.6122450828552246,
          "y": -0.45726633071899414
         },
         {
          "series": "s9",
          "x": 3.857142925262451,
          "y": -0.6321818828582764
         },
         {
          "series": "s9",
          "x": 4.102040767669678,
          "y": -0.7544858455657959
         },
         {
          "series": "s9",
          "x": 4.3469390869140625,
          "y": -0.8239414691925049
         },
         {
          "series": "s9",
          "x": 4.591836929321289,
          "y": -0.8318650722503662
         },
         {
          "series": "s9",
          "x": 4.836734771728516,
          "y": -0.792153000831604
         },
         {
          "series": "s9",
          "x": 5.081632614135742,
          "y": -0.7314202189445496
         },
         {
          "series": "s9",
          "x": 5.326530456542969,
          "y": -0.6706034541130066
         },
         {
          "series": "s9",
          "x": 5.571428298950195,
          "y": -0.6108157634735107
         },
         {
          "series": "s9",
          "x": 5.816326141357422,
          "y": -0.5708466172218323
         },
         {
          "series": "s9",
          "x": 6.061224937438965,
          "y": -0.5297654271125793
         },
         {
          "series": "s9",
          "x": 6.306122779846191,
          "y": -0.4673706591129303
         },
         {
          "series": "s9",
          "x": 6.551020622253418,
          "y": -0.3760964274406433
         },
         {
          "series": "s9",
          "x": 6.7959184646606445,
          "y": -0.25665706396102905
         },
         {
          "series": "s9",
          "x": 7.040816307067871,
          "y": -0.13150128722190857
         },
         {
          "series": "s9",
          "x": 7.285714149475098,
          "y": -0.0066526830196380615
         },
         {
          "series": "s9",
          "x": 7.530611991882324,
          "y": 0.09008629620075226
         },
         {
          "series": "s9",
          "x": 7.775510787963867,
          "y": 0.15506190061569214
         },
         {
          "series": "s9",
          "x": 8.020408630371094,
          "y": 0.19036982953548431
         },
         {
          "series": "s9",
          "x": 8.26530647277832,
          "y": 0.22208355367183685
         },
         {
          "series": "s9",
          "x": 8.510204315185547,
          "y": 0.25016215443611145
         },
         {
          "series": "s9",
          "x": 8.755102157592773,
          "y": 0.29365694522857666
         },
         {
          "series": "s9",
          "x": 9,
          "y": 0.3087386190891266
         },
         {
          "series": "s10",
          "x": -3,
          "y": -0.18435366451740265
         },
         {
          "series": "s10",
          "x": -2.7551021575927734,
          "y": -0.18248221278190613
         },
         {
          "series": "s10",
          "x": -2.5102040767669678,
          "y": -0.23370060324668884
         },
         {
          "series": "s10",
          "x": -2.265305995941162,
          "y": -0.3073791563510895
         },
         {
          "series": "s10",
          "x": -2.0204081535339355,
          "y": -0.4053976237773895
         },
         {
          "series": "s10",
          "x": -1.7755101919174194,
          "y": -0.4857481122016907
         },
         {
          "series": "s10",
          "x": -1.5306122303009033,
          "y": -0.5387015342712402
         },
         {
          "series": "s10",
          "x": -1.2857142686843872,
          "y": -0.5226207971572876
         },
         {
          "series": "s10",
          "x": -1.040816307067871,
          "y": -0.44925394654273987
         },
         {
          "series": "s10",
          "x": -0.7959184646606445,
          "y": -0.330793172121048
         },
         {
          "series": "s10",
          "x": -0.5510203838348389,
          "y": -0.1612480878829956
         },
         {
          "series": "s10",
          "x": -0.3061223030090332,
          "y": 0.005457445979118347
         },
         {
          "series": "s10",
          "x": -0.06122446060180664,
          "y": 0.1752774566411972
         },
         {
          "series": "s10",
          "x": 0.18367338180541992,
          "y": 0.32429927587509155
         },
         {
          "series": "s10",
          "x": 0.4285714626312256,
          "y": 0.46593350172042847
         },
         {
          "series": "s10",
          "x": 0.6734695434570312,
          "y": 0.5743482112884521
         },
         {
          "series": "s10",
          "x": 0.9183673858642578,
          "y": 0.6489712595939636
         },
         {
          "series": "s10",
          "x": 1.1632652282714844,
          "y": 0.6903055310249329
         },
         {
          "series": "s10",
          "x": 1.408163070678711,
          "y": 0.6863919496536255
         },
         {
          "series": "s10",
          "x": 1.6530613899230957,
          "y": 0.642971396446228
         },
         {
          "series": "s10",
          "x": 1.8979592323303223,
          "y": 0.5730041861534119
         },
         {
          "series": "s10",
          "x": 2.142857074737549,
          "y": 0.47164082527160645
         },
         {
          "series": "s10",
          "x": 2.3877553939819336,
          "y": 0.34966591000556946
         },
         {
          "series": "s10",
          "x": 2.63265323638916,
          "y": 0.2153109461069107
         },
         {
          "series": "s10",
          "x": 2.8775510787963867,
          "y": 0.07450218498706818
         },
         {
          "series": "s10",
          "x": 3.1224489212036133,
          "y": -0.0676082968711853
         },
         {
          "series": "s10",
          "x": 3.36734676361084,
          "y": -0.22774599492549896
         },
         {
          "series": "s10",
          "x": 3.6122450828552246,
          "y": -0.41907769441604614
         },
         {
          "series": "s10",
          "x": 3.857142925262451,
          "y": -0.6326364278793335
         },
         {
          "series": "s10",
          "x": 4.102040767669678,
          "y": -0.859898030757904
         },
         {
          "series": "s10",
          "x": 4.3469390869140625,
          "y": -1.0644022226333618
         },
         {
          "series": "s10",
          "x": 4.591836929321289,
          "y": -1.1882989406585693
         },
         {
          "series": "s10",
          "x": 4.836734771728516,
          "y": -1.2022957801818848
         },
         {
          "series": "s10",
          "x": 5.081632614135742,
          "y": -1.1107542514801025
         },
         {
          "series": "s10",
          "x": 5.326530456542969,
          "y": -0.9105756282806396
         },
         {
          "series": "s10",
          "x": 5.571428298950195,
          "y": -0.6826657056808472
         },
         {
          "series": "s10",
          "x": 5.816326141357422,
          "y": -0.4444683790206909
         },
         {
          "series": "s10",
          "x": 6.061224937438965,
          "y": -0.2579149603843689
         },
         {
          "series": "s10",
          "x": 6.306122779846191,
          "y": -0.11839158833026886
         },
         {
          "series": "s10",
          "x": 6.551020622253418,
          "y": -0.02019651234149933
         },
         {
          "series": "s10",
          "x": 6.7959184646606445,
          "y": 0.04047808051109314
         },
         {
          "series": "s10",
          "x": 7.040816307067871,
          "y": 0.0764947384595871
         },
         {
          "series": "s10",
          "x": 7.285714149475098,
          "y": 0.11038850247859955
         },
         {
          "series": "s10",
          "x": 7.530611991882324,
          "y": 0.1149851381778717
         },
         {
          "series": "s10",
          "x": 7.775510787963867,
          "y": 0.13771966099739075
         },
         {
          "series": "s10",
          "x": 8.020408630371094,
          "y": 0.13784731924533844
         },
         {
          "series": "s10",
          "x": 8.26530647277832,
          "y": 0.12373442947864532
         },
         {
          "series": "s10",
          "x": 8.510204315185547,
          "y": 0.10530723631381989
         },
         {
          "series": "s10",
          "x": 8.755102157592773,
          "y": 0.07159760594367981
         },
         {
          "series": "s10",
          "x": 9,
          "y": 0.04208793863654137
         },
         {
          "series": "s11",
          "x": -3,
          "y": -0.47410669922828674
         },
         {
          "series": "s11",
          "x": -2.7551021575927734,
          "y": -0.5042933225631714
         },
         {
          "series": "s11",
          "x": -2.5102040767669678,
          "y": -0.49086740612983704
         },
         {
          "series": "s11",
          "x": -2.265305995941162,
          "y": -0.4763175845146179
         },
         {
          "series": "s11",
          "x": -2.0204081535339355,
          "y": -0.4500843584537506
         },
         {
          "series": "s11",
          "x": -1.7755101919174194,
          "y": -0.4199969172477722
         },
         {
          "series": "s11",
          "x": -1.5306122303009033,
          "y": -0.37737399339675903
         },
         {
          "series": "s11",
          "x": -1.2857142686843872,
          "y": -0.308824360370636
         },
         {
          "series": "s11",
          "x": -1.040816307067871,
          "y": -0.1972752958536148
         },
         {
          "series": "s11",
          "x": -0.7959184646606445,
          "y": -0.04758094996213913
         },
         {
          "series": "s11",
          "x": -0.5510203838348389,
          "y": 0.1364356428384781
         },
         {
          "series": "s11",
          "x": -0.3061223030090332,
          "y": 0.31735172867774963
         },
         {
          "series": "s11",
          "x": -0.06122446060180664,
          "y": 0.4753759503364563
         },
         {
          "series": "s11",
          "x": 0.18367338180541992,
          "y": 0.5849857926368713
         },
         {
          "series": "s11",
          "x": 0.4285714626312256,
          "y": 0.6287651658058167
         },
         {
          "series": "s11",
          "x": 0.6734695434570312,
          "y": 0.6268144845962524
         },
         {
          "series": "s11",
          "x": 0.9183673858642578,
          "y": 0.5624587535858154
         },
         {
          "series": "s11",
          "x": 1.1632652282714844,
          "y": 0.4901846647262573
         },
         {
          "series": "s11",
          "x": 1.408163070678711,
          "y": 0.4326704144477844
         },
         {
          "series": "s11",
          "x": 1.6530613899230957,
          "y": 0.4102233648300171
         },
         {
          "series": "s11",
          "x": 1.8979592323303223,
          "y": 0.41524526476860046
         },
         {
          "series": "s11",
          "x": 2.142857074737549,
          "y": 0.4144178032875061
         },
         {
          "series": "s11",
          "x": 2.3877553939819336,
          "y": 0.3909510672092438
         },
         {
          "series": "s11",
          "x": 2.63265323638916,
          "y": 0.3106965720653534
         },
         {
          "series": "s11",
          "x": 2.8775510787963867,
          "y": 0.18665622174739838
         },
         {
          "series": "s11",
          "x": 3.1224489212036133,
          "y": 0.016784682869911194
         },
         {
          "series": "s11",
          "x": 3.36734676361084,
          "y": -0.17281624674797058
         },
         {
          "series": "s11",
          "x": 3.6122450828552246,
          "y": -0.3573611378669739
         },
         {
          "series": "s11",
          "x": 3.857142925262451,
          "y": -0.5119412541389465
         },
         {
          "series": "s11",
          "x": 4.102040767669678,
          "y": -0.6371433138847351
         },
         {
          "series": "s11",
          "x": 4.3469390869140625,
          "y": -0.7075779438018799
         },
         {
          "series": "s11",
          "x": 4.591836929321289,
          "y": -0.7372255921363831
         },
         {
          "series": "s11",
          "x": 4.836734771728516,
          "y": -0.7207158207893372
         },
         {
          "series": "s11",
          "x": 5.081632614135742,
          "y": -0.6523898839950562
         },
         {
          "series": "s11",
          "x": 5.326530456542969,
          "y": -0.5493660569190979
         },
         {
          "series": "s11",
          "x": 5.571428298950195,
          "y": -0.41202032566070557
         },
         {
          "series": "s11",
          "x": 5.816326141357422,
          "y": -0.2580876052379608
         },
         {
          "series": "s11",
          "x": 6.061224937438965,
          "y": -0.09549722075462341
         },
         {
          "series": "s11",
          "x": 6.306122779846191,
          "y": 0.05923298001289368
         },
         {
          "series": "s11",
          "x": 6.551020622253418,
          "y": 0.1834791898727417
         },
         {
          "series": "s11",
          "x": 6.7959184646606445,
          "y": 0.27806901931762695
         },
         {
          "series": "s11",
          "x": 7.040816307067871,
          "y": 0.3463631868362427
         },
         {
          "series": "s11",
          "x": 7.285714149475098,
          "y": 0.40504008531570435
         },
         {
          "series": "s11",
          "x": 7.530611991882324,
          "y": 0.4531930685043335
         },
         {
          "series": "s11",
          "x": 7.775510787963867,
          "y": 0.48000866174697876
         },
         {
          "series": "s11",
          "x": 8.020408630371094,
          "y": 0.48063334822654724
         },
         {
          "series": "s11",
          "x": 8.26530647277832,
          "y": 0.45639073848724365
         },
         {
          "series": "s11",
          "x": 8.510204315185547,
          "y": 0.4070965349674225
         },
         {
          "series": "s11",
          "x": 8.755102157592773,
          "y": 0.3521628975868225
         },
         {
          "series": "s11",
          "x": 9,
          "y": 0.30702149868011475
         },
         {
          "series": "s12",
          "x": -3,
          "y": -0.5576623678207397
         },
         {
          "series": "s12",
          "x": -2.7551021575927734,
          "y": -0.5296327471733093
         },
         {
          "series": "s12",
          "x": -2.5102040767669678,
          "y": -0.45844796299934387
         },
         {
          "series": "s12",
          "x": -2.265305995941162,
          "y": -0.367179811000824
         },
         {
          "series": "s12",
          "x": -2.0204081535339355,
          "y": -0.26902079582214355
         },
         {
          "series": "s12",
          "x": -1.7755101919174194,
          "y": -0.1782020479440689
         },
         {
          "series": "s12",
          "x": -1.5306122303009033,
          "y": -0.09516634047031403
         },
         {
          "series": "s12",
          "x": -1.2857142686843872,
          "y": -0.02726416289806366
         },
         {
          "series": "s12",
          "x": -1.040816307067871,
          "y": 0.021040961146354675
         },
         {
          "series": "s12",
          "x": -0.7959184646606445,
          "y": 0.054645612835884094
         },
         {
          "series": "s12",
          "x": -0.5510203838348389,
          "y": 0.0898001492023468
         },
         {
          "series": "s12",
          "x": -0.3061223030090332,
          "y": 0.13796323537826538
         },
         {
          "series": "s12",
          "x": -0.06122446060180664,
          "y": 0.20986662805080414
         },
         {
          "series": "s12",
          "x": 0.18367338180541992,
          "y": 0.3045744001865387
         },
         {
          "series": "s12",
          "x": 0.4285714626312256,
          "y": 0.4213921129703522
         },
         {
          "series": "s12",
          "x": 0.6734695434570312,
          "y": 0.5580267310142517
         },
         {
          "series": "s12",
          "x": 0.9183673858642578,
          "y": 0.6922211647033691
         },
         {
          "series": "s12",
          "x": 1.1632652282714844,
          "y": 0.7943962216377258
         },
         {
          "series": "s12",
          "x": 1.408163070678711,
          "y": 0.8300655484199524
         },
         {
          "series": "s12",
          "x": 1.6530613899230957,
          "y": 0.816260039806366
         },
         {
          "series": "s12",
          "x": 1.8979592323303223,
          "y": 0.7154350280761719
         },
         {
          "series": "s12",
          "x": 2.142857074737549,
          "y": 0.5559931993484497
         },
         {
          "series": "s12",
          "x": 2.3877553939819336,
          "y": 0.36695408821105957
         },
         {
          "series": "s12",
          "x": 2.63265323638916,
          "y": 0.1572195291519165
         },
         {
          "series": "s12",
          "x": 2.8775510787963867,
          "y": -0.03296464681625366
         },
         {
          "series": "s12",
          "x": 3.1224489212036133,
          "y": -0.20211201906204224
         },
         {
          "series": "s12",
          "x": 3.36734676361084,
          "y": -0.34423238039016724
         },
         {
          "series": "s12",
          "x": 3.6122450828552246,
          "y": -0.45505931973457336
         },
         {
          "series": "s12",
          "x": 3.857142925262451,
          "y": -0.5456733107566833
         },
         {
          "series": "s12",
          "x": 4.102040767669678,
          "y": -0.6104687452316284
         },
         {
          "series": "s12",
          "x": 4.3469390869140625,
          "y": -0.6421056389808655
         },
         {
          "series": "s12",
          "x": 4.591836929321289,
          "y": -0.6431224942207336
         },
         {
          "series": "s12",
          "x": 4.836734771728516,
          "y": -0.6145684123039246
         },
         {
          "series": "s12",
          "x": 5.081632614135742,
          "y": -0.5602211952209473
         },
         {
          "series": "s12",
          "x": 5.326530456542969,
          "y": -0.5010912418365479
         },
         {
          "series": "s12",
          "x": 5.571428298950195,
          "y": -0.4280953109264374
         },
         {
          "series": "s12",
          "x": 5.816326141357422,
          "y": -0.3589518964290619
         },
         {
          "series": "s12",
          "x": 6.061224937438965,
          "y": -0.2824764847755432
         },
         {
          "series": "s12",
          "x": 6.306122779846191,
          "y": -0.228613942861557
         },
         {
          "series": "s12",
          "x": 6.551020622253418,
          "y": -0.20085537433624268
         },
         {
          "series": "s12",
          "x": 6.7959184646606445,
          "y": -0.20357127487659454
         },
         {
          "series": "s12",
          "x": 7.040816307067871,
          "y": -0.25181376934051514
         },
         {
          "series": "s12",
          "x": 7.285714149475098,
          "y": -0.32956570386886597
         },
         {
          "series": "s12",
          "x": 7.530611991882324,
          "y": -0.41161563992500305
         },
         {
          "series": "s12",
          "x": 7.775510787963867,
          "y": -0.46581465005874634
         },
         {
          "series": "s12",
          "x": 8.020408630371094,
          "y": -0.4946993887424469
         },
         {
          "series": "s12",
          "x": 8.26530647277832,
          "y": -0.49227070808410645
         },
         {
          "series": "s12",
          "x": 8.510204315185547,
          "y": -0.4534674286842346
         },
         {
          "series": "s12",
          "x": 8.755102157592773,
          "y": -0.4006091058254242
         },
         {
          "series": "s12",
          "x": 9,
          "y": -0.3313978314399719
         },
         {
          "series": "s13",
          "x": -3,
          "y": -0.11093804240226746
         },
         {
          "series": "s13",
          "x": -2.7551021575927734,
          "y": -0.14599262177944183
         },
         {
          "series": "s13",
          "x": -2.5102040767669678,
          "y": -0.19353258609771729
         },
         {
          "series": "s13",
          "x": -2.265305995941162,
          "y": -0.2596452534198761
         },
         {
          "series": "s13",
          "x": -2.0204081535339355,
          "y": -0.3295111358165741
         },
         {
          "series": "s13",
          "x": -1.7755101919174194,
          "y": -0.40639540553092957
         },
         {
          "series": "s13",
          "x": -1.5306122303009033,
          "y": -0.46493902802467346
         },
         {
          "series": "s13",
          "x": -1.2857142686843872,
          "y": -0.509112536907196
         },
         {
          "series": "s13",
          "x": -1.040816307067871,
          "y": -0.5360073447227478
         },
         {
          "series": "s13",
          "x": -0.7959184646606445,
          "y": -0.5168870687484741
         },
         {
          "series": "s13",
          "x": -0.5510203838348389,
          "y": -0.45567160844802856
         },
         {
          "series": "s13",
          "x": -0.3061223030090332,
          "y": -0.35710448026657104
         },
         {
          "series": "s13",
          "x": -0.06122446060180664,
          "y": -0.20419341325759888
         },
         {
          "series": "s13",
          "x": 0.18367338180541992,
          "y": -0.02200496196746826
         },
         {
          "series": "s13",
          "x": 0.4285714626312256,
          "y": 0.19994091987609863
         },
         {
          "series": "s13",
          "x": 0.6734695434570312,
          "y": 0.4125869870185852
         },
         {
          "series": "s13",
          "x": 0.9183673858642578,
          "y": 0.5886625647544861
         },
         {
          "series": "s13",
          "x": 1.1632652282714844,
          "y": 0.6889889240264893
         },
         {
          "series": "s13",
          "x": 1.408163070678711,
          "y": 0.7143791317939758
         },
         {
          "series": "s13",
          "x": 1.6530613899230957,
          "y": 0.6637687683105469
         },
         {
          "series": "s13",
          "x": 1.8979592323303223,
          "y": 0.5741338133811951
         },
         {
          "series": "s13",
          "x": 2.142857074737549,
          "y": 0.47455552220344543
         },
         {
          "series": "s13",
          "x": 2.3877553939819336,
          "y": 0.3849615454673767
         },
         {
          "series": "s13",
          "x": 2.63265323638916,
          "y": 0.29853594303131104
         },
         {
          "series": "s13",
          "x": 2.8775510787963867,
          "y": 0.21311528980731964
         },
         {
          "series": "s13",
          "x": 3.1224489212036133,
          "y": 0.11909331381320953
         },
         {
          "series": "s13",
          "x": 3.36734676361084,
          "y": 0.0043473392724990845
         },
         {
          "series": "s13",
          "x": 3.6122450828552246,
          "y": -0.12922577559947968
         },
         {
          "series": "s13",
          "x": 3.857142925262451,
          "y": -0.262723445892334
         },
         {
          "series": "s13",
          "x": 4.102040767669678,
          "y": -0.4081858992576599
         },
         {
          "series": "s13",
          "x": 4.3469390869140625,
          "y": -0.5434577465057373
         },
         {
          "series": "s13",
          "x": 4.591836929321289,
          "y": -0.6331927180290222
         },
         {
          "series": "s13",
          "x": 4.836734771728516,
          "y": -0.6796549558639526
         },
         {
          "series": "s13",
          "x": 5.081632614135742,
          "y": -0.6627166271209717
         },
         {
          "series": "s13",
          "x": 5.326530456542969,
          "y": -0.5702909231185913
         },
         {
          "series": "s13",
          "x": 5.571428298950195,
          "y": -0.4450123608112335
         },
         {
          "series": "s13",
          "x": 5.816326141357422,
          "y": -0.304483026266098
         },
         {
          "series": "s13",
          "x": 6.061224937438965,
          "y": -0.1947910189628601
         },
         {
          "series": "s13",
          "x": 6.306122779846191,
          "y": -0.14790542423725128
         },
         {
          "series": "s13",
          "x": 6.551020622253418,
          "y": -0.17712116241455078
         },
         {
          "series": "s13",
          "x": 6.7959184646606445,
          "y": -0.2708619236946106
         },
         {
          "series": "s13",
          "x": 7.040816307067871,
          "y": -0.3806123733520508
         },
         {
          "series": "s13",
          "x": 7.285714149475098,
          "y": -0.46979767084121704
         },
         {
          "series": "s13",
          "x": 7.530611991882324,
          "y": -0.5101058483123779
         },
         {
          "series": "s13",
          "x": 7.775510787963867,
          "y": -0.48317092657089233
         },
         {
          "series": "s13",
          "x": 8.020408630371094,
          "y": -0.4319602847099304
         },
         {
          "series": "s13",
          "x": 8.26530647277832,
          "y": -0.3532668948173523
         },
         {
          "series": "s13",
          "x": 8.510204315185547,
          "y": -0.3075729012489319
         },
         {
          "series": "s13",
          "x": 8.755102157592773,
          "y": -0.2983476519584656
         },
         {
          "series": "s13",
          "x": 9,
          "y": -0.34096816182136536
         },
         {
          "series": "s14",
          "x": -3,
          "y": 0.06977705657482147
         },
         {
          "series": "s14",
          "x": -2.7551021575927734,
          "y": 0.1508873850107193
         },
         {
          "series": "s14",
          "x": -2.5102040767669678,
          "y": 0.23709321022033691
         },
         {
          "series": "s14",
          "x": -2.265305995941162,
          "y": 0.34983792901039124
         },
         {
          "series": "s14",
          "x": -2.0204081535339355,
          "y": 0.44917723536491394
         },
         {
          "series": "s14",
          "x": -1.7755101919174194,
          "y": 0.5275534391403198
         },
         {
          "series": "s14",
          "x": -1.5306122303009033,
          "y": 0.569424033164978
         },
         {
          "series": "s14",
          "x": -1.2857142686843872,
          "y": 0.5705152750015259
         },
         {
          "series": "s14",
          "x": -1.040816307067871,
          "y": 0.5425551533699036
         },
         {
          "series": "s14",
          "x": -0.7959184646606445,
          "y": 0.49232205748558044
         },
         {
          "series": "s14",
          "x": -0.5510203838348389,
          "y": 0.4294666349887848
         },
         {
          "series": "s14",
          "x": -0.3061223030090332,
          "y": 0.36016732454299927
         },
         {
          "series": "s14",
          "x": -0.06122446060180664,
          "y": 0.3290666341781616
         },
         {
          "series": "s14",
          "x": 0.18367338180541992,
          "y": 0.3316322863101959
         },
         {
          "series": "s14",
          "x": 0.4285714626312256,
          "y": 0.3966587483882904
         },
         {
          "series": "s14",
          "x": 0.6734695434570312,
          "y": 0.49155864119529724
         },
         {
          "series": "s14",
          "x": 0.9183673858642578,
          "y": 0.6110461354255676
         },
         {
          "series": "s14",
          "x": 1.1632652282714844,
          "y": 0.7129534482955933
         },
         {
          "series": "s14",
          "x": 1.408163070678711,
          "y": 0.8049547076225281
         },
         {
          "series": "s14",
          "x": 1.6530613899230957,
          "y": 0.81899094581604
         },
         {
          "series": "s14",
          "x": 1.8979592323303223,
          "y": 0.7906900644302368
         },
         {
          "series": "s14",
          "x": 2.142857074737549,
          "y": 0.6925162076950073
         },
         {
          "series": "s14",
          "x": 2.3877553939819336,
          "y": 0.534935712814331
         },
         {
          "series": "s14",
          "x": 2.63265323638916,
          "y": 0.34188294410705566
         },
         {
          "series": "s14",
          "x": 2.8775510787963867,
          "y": 0.11058907210826874
         },
         {
          "series": "s14",
          "x": 3.1224489212036133,
          "y": -0.13609839975833893
         },
         {
          "series": "s14",
          "x": 3.36734676361084,
          "y": -0.36588478088378906
         },
         {
          "series": "s14",
          "x": 3.6122450828552246,
          "y": -0.5691624283790588
         },
         {
          "series": "s14",
          "x": 3.857142925262451,
          "y": -0.709714412689209
         },
         {
          "series": "s14",
          "x": 4.102040767669678,
          "y": -0.7872827053070068
         },
         {
          "series": "s14",
          "x": 4.3469390869140625,
          "y": -0.8162121772766113
         },
         {
          "series": "s14",
          "x": 4.591836929321289,
          "y": -0.7880732417106628
         },
         {
          "series": "s14",
          "x": 4.836734771728516,
          "y": -0.7491223216056824
         },
         {
          "series": "s14",
          "x": 5.081632614135742,
          "y": -0.6821451187133789
         },
         {
          "series": "s14",
          "x": 5.326530456542969,
          "y": -0.6126558780670166
         },
         {
          "series": "s14",
          "x": 5.571428298950195,
          "y": -0.5473835468292236
         },
         {
          "series": "s14",
          "x": 5.816326141357422,
          "y": -0.4822157621383667
         },
         {
          "series": "s14",
          "x": 6.061224937438965,
          "y": -0.4325585663318634
         },
         {
          "series": "s14",
          "x": 6.306122779846191,
          "y": -0.3796776533126831
         },
         {
          "series": "s14",
          "x": 6.551020622253418,
          "y": -0.3358682692050934
         },
         {
          "series": "s14",
          "x": 6.7959184646606445,
          "y": -0.29156461358070374
         },
         {
          "series": "s14",
          "x": 7.040816307067871,
          "y": -0.24956321716308594
         },
         {
          "series": "s14",
          "x": 7.285714149475098,
          "y": -0.21191786229610443
         },
         {
          "series": "s14",
          "x": 7.530611991882324,
          "y": -0.1695987433195114
         },
         {
          "series": "s14",
          "x": 7.775510787963867,
          "y": -0.16501286625862122
         },
         {
          "series": "s14",
          "x": 8.020408630371094,
          "y": -0.1514827162027359
         },
         {
          "series": "s14",
          "x": 8.26530647277832,
          "y": -0.16402268409729004
         },
         {
          "series": "s14",
          "x": 8.510204315185547,
          "y": -0.19381503760814667
         },
         {
          "series": "s14",
          "x": 8.755102157592773,
          "y": -0.22920876741409302
         },
         {
          "series": "s14",
          "x": 9,
          "y": -0.25347065925598145
         }
        ]
       },
       "layer": [
        {
         "data": {
          "name": "data-85f4feb3359b23fbf982a7399fb80774"
         },
         "encoding": {
          "color": {
           "field": "series",
           "legend": {
            "title": "p(θ)"
           },
           "scale": {
            "scheme": "blues"
           },
           "type": "ordinal"
          },
          "x": {
           "field": "x",
           "type": "quantitative"
          },
          "y": {
           "field": "y",
           "type": "quantitative"
          }
         },
         "mark": {
          "opacity": 0.5,
          "strokeWidth": 2,
          "type": "line"
         },
         "transform": [
          {
           "filter": "(datum.series !== 'fit')"
          }
         ]
        },
        {
         "data": {
          "name": "data-85f4feb3359b23fbf982a7399fb80774"
         },
         "encoding": {
          "x": {
           "field": "x",
           "type": "quantitative"
          },
          "y": {
           "field": "y",
           "type": "quantitative"
          }
         },
         "mark": {
          "color": "navy",
          "strokeWidth": 3,
          "type": "line"
         },
         "transform": [
          {
           "filter": "(datum.series === 'fit')"
          }
         ],
         "width": 640
        }
       ],
       "resolve": {
        "scale": {
         "color": "independent"
        }
       }
      },
      "image/png": "[encoded data removed]",
      "text/plain": [
       "<VegaLite 3 object>\n",
       "\n",
       "If you see this message, it means the renderer has not been properly enabled\n",
       "for the frontend that you are using. For more information, see\n",
       "https://altair-viz.github.io/user_guide/troubleshooting.html\n"
      ]
     },
     "execution_count": 20,
     "metadata": {},
     "output_type": "execute_result"
    }
   ],
   "source": [
    "sample_posterior(x_train, torch.linspace(-3, 9, 50).unsqueeze(0).t(), y_train, sample_no=15)"
   ]
  },
  {
   "cell_type": "code",
   "execution_count": null,
   "metadata": {},
   "outputs": [],
   "source": []
  }
 ],
 "metadata": {
  "kernelspec": {
   "display_name": "Python 3",
   "language": "python",
   "name": "python3"
  },
  "language_info": {
   "codemirror_mode": {
    "name": "ipython",
    "version": 3
   },
   "file_extension": ".py",
   "mimetype": "text/x-python",
   "name": "python",
   "nbconvert_exporter": "python",
   "pygments_lexer": "ipython3",
   "version": "3.7.3"
  }
 },
 "nbformat": 4,
 "nbformat_minor": 4
}
